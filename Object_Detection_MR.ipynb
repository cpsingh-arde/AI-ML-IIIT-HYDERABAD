{
  "nbformat": 4,
  "nbformat_minor": 0,
  "metadata": {
    "colab": {
      "provenance": [],
      "gpuType": "T4",
      "include_colab_link": true
    },
    "kernelspec": {
      "name": "python3",
      "display_name": "Python 3"
    },
    "language_info": {
      "name": "python"
    },
    "accelerator": "GPU"
  },
  "cells": [
    {
      "cell_type": "markdown",
      "metadata": {
        "id": "view-in-github",
        "colab_type": "text"
      },
      "source": [
        "<a href=\"https://colab.research.google.com/github/cpsingh-arde/AI-ML-IIIT-HYDERABAD/blob/main/Object_Detection_MR.ipynb\" target=\"_parent\"><img src=\"https://colab.research.google.com/assets/colab-badge.svg\" alt=\"Open In Colab\"/></a>"
      ]
    },
    {
      "cell_type": "code",
      "source": [
        "!unzip \"/content/drive/MyDrive/Missile.zip\" -d \"/content\""
      ],
      "metadata": {
        "id": "YcdP7Oc3i8KO",
        "colab": {
          "base_uri": "https://localhost:8080/"
        },
        "outputId": "64e85b0f-1edd-419f-ac0f-9a84c318292e"
      },
      "execution_count": 1,
      "outputs": [
        {
          "output_type": "stream",
          "name": "stdout",
          "text": [
            "unzip:  cannot find or open /content/drive/MyDrive/Missile.zip, /content/drive/MyDrive/Missile.zip.zip or /content/drive/MyDrive/Missile.zip.ZIP.\n"
          ]
        }
      ]
    },
    {
      "cell_type": "code",
      "source": [
        "!pip install ultralytics"
      ],
      "metadata": {
        "id": "xDS6vjpuuTXe",
        "colab": {
          "base_uri": "https://localhost:8080/"
        },
        "outputId": "7bf8987d-23bf-40cd-cb77-3946cf1be737"
      },
      "execution_count": 2,
      "outputs": [
        {
          "output_type": "stream",
          "name": "stdout",
          "text": [
            "Collecting ultralytics\n",
            "  Downloading ultralytics-8.1.14-py3-none-any.whl (715 kB)\n",
            "\u001b[?25l     \u001b[90m━━━━━━━━━━━━━━━━━━━━━━━━━━━━━━━━━━━━━━━━\u001b[0m \u001b[32m0.0/715.0 kB\u001b[0m \u001b[31m?\u001b[0m eta \u001b[36m-:--:--\u001b[0m\r\u001b[2K     \u001b[91m━━━━━━━━━━\u001b[0m\u001b[90m╺\u001b[0m\u001b[90m━━━━━━━━━━━━━━━━━━━━━━━━━━━━━\u001b[0m \u001b[32m184.3/715.0 kB\u001b[0m \u001b[31m5.5 MB/s\u001b[0m eta \u001b[36m0:00:01\u001b[0m\r\u001b[2K     \u001b[90m━━━━━━━━━━━━━━━━━━━━━━━━━━━━━━━━━━━━━━━━\u001b[0m \u001b[32m715.0/715.0 kB\u001b[0m \u001b[31m13.7 MB/s\u001b[0m eta \u001b[36m0:00:00\u001b[0m\n",
            "\u001b[?25hRequirement already satisfied: matplotlib>=3.3.0 in /usr/local/lib/python3.10/dist-packages (from ultralytics) (3.7.1)\n",
            "Requirement already satisfied: numpy>=1.22.2 in /usr/local/lib/python3.10/dist-packages (from ultralytics) (1.25.2)\n",
            "Requirement already satisfied: opencv-python>=4.6.0 in /usr/local/lib/python3.10/dist-packages (from ultralytics) (4.8.0.76)\n",
            "Requirement already satisfied: pillow>=7.1.2 in /usr/local/lib/python3.10/dist-packages (from ultralytics) (9.4.0)\n",
            "Requirement already satisfied: pyyaml>=5.3.1 in /usr/local/lib/python3.10/dist-packages (from ultralytics) (6.0.1)\n",
            "Requirement already satisfied: requests>=2.23.0 in /usr/local/lib/python3.10/dist-packages (from ultralytics) (2.31.0)\n",
            "Requirement already satisfied: scipy>=1.4.1 in /usr/local/lib/python3.10/dist-packages (from ultralytics) (1.11.4)\n",
            "Requirement already satisfied: torch>=1.8.0 in /usr/local/lib/python3.10/dist-packages (from ultralytics) (2.1.0+cu121)\n",
            "Requirement already satisfied: torchvision>=0.9.0 in /usr/local/lib/python3.10/dist-packages (from ultralytics) (0.16.0+cu121)\n",
            "Requirement already satisfied: tqdm>=4.64.0 in /usr/local/lib/python3.10/dist-packages (from ultralytics) (4.66.2)\n",
            "Requirement already satisfied: psutil in /usr/local/lib/python3.10/dist-packages (from ultralytics) (5.9.5)\n",
            "Requirement already satisfied: py-cpuinfo in /usr/local/lib/python3.10/dist-packages (from ultralytics) (9.0.0)\n",
            "Collecting thop>=0.1.1 (from ultralytics)\n",
            "  Downloading thop-0.1.1.post2209072238-py3-none-any.whl (15 kB)\n",
            "Requirement already satisfied: pandas>=1.1.4 in /usr/local/lib/python3.10/dist-packages (from ultralytics) (1.5.3)\n",
            "Requirement already satisfied: seaborn>=0.11.0 in /usr/local/lib/python3.10/dist-packages (from ultralytics) (0.13.1)\n",
            "Requirement already satisfied: contourpy>=1.0.1 in /usr/local/lib/python3.10/dist-packages (from matplotlib>=3.3.0->ultralytics) (1.2.0)\n",
            "Requirement already satisfied: cycler>=0.10 in /usr/local/lib/python3.10/dist-packages (from matplotlib>=3.3.0->ultralytics) (0.12.1)\n",
            "Requirement already satisfied: fonttools>=4.22.0 in /usr/local/lib/python3.10/dist-packages (from matplotlib>=3.3.0->ultralytics) (4.48.1)\n",
            "Requirement already satisfied: kiwisolver>=1.0.1 in /usr/local/lib/python3.10/dist-packages (from matplotlib>=3.3.0->ultralytics) (1.4.5)\n",
            "Requirement already satisfied: packaging>=20.0 in /usr/local/lib/python3.10/dist-packages (from matplotlib>=3.3.0->ultralytics) (23.2)\n",
            "Requirement already satisfied: pyparsing>=2.3.1 in /usr/local/lib/python3.10/dist-packages (from matplotlib>=3.3.0->ultralytics) (3.1.1)\n",
            "Requirement already satisfied: python-dateutil>=2.7 in /usr/local/lib/python3.10/dist-packages (from matplotlib>=3.3.0->ultralytics) (2.8.2)\n",
            "Requirement already satisfied: pytz>=2020.1 in /usr/local/lib/python3.10/dist-packages (from pandas>=1.1.4->ultralytics) (2023.4)\n",
            "Requirement already satisfied: charset-normalizer<4,>=2 in /usr/local/lib/python3.10/dist-packages (from requests>=2.23.0->ultralytics) (3.3.2)\n",
            "Requirement already satisfied: idna<4,>=2.5 in /usr/local/lib/python3.10/dist-packages (from requests>=2.23.0->ultralytics) (3.6)\n",
            "Requirement already satisfied: urllib3<3,>=1.21.1 in /usr/local/lib/python3.10/dist-packages (from requests>=2.23.0->ultralytics) (2.0.7)\n",
            "Requirement already satisfied: certifi>=2017.4.17 in /usr/local/lib/python3.10/dist-packages (from requests>=2.23.0->ultralytics) (2024.2.2)\n",
            "Requirement already satisfied: filelock in /usr/local/lib/python3.10/dist-packages (from torch>=1.8.0->ultralytics) (3.13.1)\n",
            "Requirement already satisfied: typing-extensions in /usr/local/lib/python3.10/dist-packages (from torch>=1.8.0->ultralytics) (4.9.0)\n",
            "Requirement already satisfied: sympy in /usr/local/lib/python3.10/dist-packages (from torch>=1.8.0->ultralytics) (1.12)\n",
            "Requirement already satisfied: networkx in /usr/local/lib/python3.10/dist-packages (from torch>=1.8.0->ultralytics) (3.2.1)\n",
            "Requirement already satisfied: jinja2 in /usr/local/lib/python3.10/dist-packages (from torch>=1.8.0->ultralytics) (3.1.3)\n",
            "Requirement already satisfied: fsspec in /usr/local/lib/python3.10/dist-packages (from torch>=1.8.0->ultralytics) (2023.6.0)\n",
            "Requirement already satisfied: triton==2.1.0 in /usr/local/lib/python3.10/dist-packages (from torch>=1.8.0->ultralytics) (2.1.0)\n",
            "Requirement already satisfied: six>=1.5 in /usr/local/lib/python3.10/dist-packages (from python-dateutil>=2.7->matplotlib>=3.3.0->ultralytics) (1.16.0)\n",
            "Requirement already satisfied: MarkupSafe>=2.0 in /usr/local/lib/python3.10/dist-packages (from jinja2->torch>=1.8.0->ultralytics) (2.1.5)\n",
            "Requirement already satisfied: mpmath>=0.19 in /usr/local/lib/python3.10/dist-packages (from sympy->torch>=1.8.0->ultralytics) (1.3.0)\n",
            "Installing collected packages: thop, ultralytics\n",
            "Successfully installed thop-0.1.1.post2209072238 ultralytics-8.1.14\n"
          ]
        }
      ]
    },
    {
      "cell_type": "code",
      "source": [
        "from ultralytics import YOLO"
      ],
      "metadata": {
        "id": "i5RYAMpveLXc"
      },
      "execution_count": null,
      "outputs": []
    },
    {
      "cell_type": "code",
      "source": [
        "model = YOLO(\"yolov8m.pt\")"
      ],
      "metadata": {
        "id": "CZB2ixPcNsXg",
        "colab": {
          "base_uri": "https://localhost:8080/"
        },
        "outputId": "80429ccf-e06e-424a-a482-10230c2d7c3a"
      },
      "execution_count": null,
      "outputs": [
        {
          "output_type": "stream",
          "name": "stdout",
          "text": [
            "Downloading https://github.com/ultralytics/assets/releases/download/v8.1.0/yolov8m.pt to 'yolov8m.pt'...\n"
          ]
        },
        {
          "output_type": "stream",
          "name": "stderr",
          "text": [
            "100%|██████████| 49.7M/49.7M [00:00<00:00, 274MB/s]\n"
          ]
        }
      ]
    },
    {
      "cell_type": "code",
      "source": [
        "# Set Yaml File path\n",
        "yaml = '/content/Missile/data.yaml'"
      ],
      "metadata": {
        "id": "oYljSBlnqPRF"
      },
      "execution_count": null,
      "outputs": []
    },
    {
      "cell_type": "code",
      "source": [
        "# Train the model (fine-tune on your dataset)\n",
        "model.train(data=yaml, epochs=30, batch=-1)"
      ],
      "metadata": {
        "colab": {
          "base_uri": "https://localhost:8080/"
        },
        "id": "oQ2Uwm5G-lL_",
        "outputId": "df4a9996-c30d-47da-da2e-4f5d1e9ab06a"
      },
      "execution_count": null,
      "outputs": [
        {
          "output_type": "stream",
          "name": "stdout",
          "text": [
            "Ultralytics YOLOv8.1.14 🚀 Python-3.10.12 torch-2.1.0+cu121 CUDA:0 (Tesla T4, 15102MiB)\n",
            "\u001b[34m\u001b[1mengine/trainer: \u001b[0mtask=detect, mode=train, model=yolov8m.pt, data=/content/Missile/data.yaml, epochs=30, time=None, patience=50, batch=-1, imgsz=640, save=True, save_period=-1, cache=False, device=None, workers=8, project=None, name=train, exist_ok=False, pretrained=True, optimizer=auto, verbose=True, seed=0, deterministic=True, single_cls=False, rect=False, cos_lr=False, close_mosaic=10, resume=False, amp=True, fraction=1.0, profile=False, freeze=None, multi_scale=False, overlap_mask=True, mask_ratio=4, dropout=0.0, val=True, split=val, save_json=False, save_hybrid=False, conf=None, iou=0.7, max_det=300, half=False, dnn=False, plots=True, source=None, vid_stride=1, stream_buffer=False, visualize=False, augment=False, agnostic_nms=False, classes=None, retina_masks=False, embed=None, show=False, save_frames=False, save_txt=False, save_conf=False, save_crop=False, show_labels=True, show_conf=True, show_boxes=True, line_width=None, format=torchscript, keras=False, optimize=False, int8=False, dynamic=False, simplify=False, opset=None, workspace=4, nms=False, lr0=0.01, lrf=0.01, momentum=0.937, weight_decay=0.0005, warmup_epochs=3.0, warmup_momentum=0.8, warmup_bias_lr=0.1, box=7.5, cls=0.5, dfl=1.5, pose=12.0, kobj=1.0, label_smoothing=0.0, nbs=64, hsv_h=0.015, hsv_s=0.7, hsv_v=0.4, degrees=0.0, translate=0.1, scale=0.5, shear=0.0, perspective=0.0, flipud=0.0, fliplr=0.5, mosaic=1.0, mixup=0.0, copy_paste=0.0, auto_augment=randaugment, erasing=0.4, crop_fraction=1.0, cfg=None, tracker=botsort.yaml, save_dir=runs/detect/train\n",
            "Downloading https://ultralytics.com/assets/Arial.ttf to '/root/.config/Ultralytics/Arial.ttf'...\n"
          ]
        },
        {
          "output_type": "stream",
          "name": "stderr",
          "text": [
            "100%|██████████| 755k/755k [00:00<00:00, 133MB/s]\n"
          ]
        },
        {
          "output_type": "stream",
          "name": "stdout",
          "text": [
            "Overriding model.yaml nc=80 with nc=1\n",
            "\n",
            "                   from  n    params  module                                       arguments                     \n",
            "  0                  -1  1      1392  ultralytics.nn.modules.conv.Conv             [3, 48, 3, 2]                 \n",
            "  1                  -1  1     41664  ultralytics.nn.modules.conv.Conv             [48, 96, 3, 2]                \n",
            "  2                  -1  2    111360  ultralytics.nn.modules.block.C2f             [96, 96, 2, True]             \n",
            "  3                  -1  1    166272  ultralytics.nn.modules.conv.Conv             [96, 192, 3, 2]               \n",
            "  4                  -1  4    813312  ultralytics.nn.modules.block.C2f             [192, 192, 4, True]           \n",
            "  5                  -1  1    664320  ultralytics.nn.modules.conv.Conv             [192, 384, 3, 2]              \n",
            "  6                  -1  4   3248640  ultralytics.nn.modules.block.C2f             [384, 384, 4, True]           \n",
            "  7                  -1  1   1991808  ultralytics.nn.modules.conv.Conv             [384, 576, 3, 2]              \n",
            "  8                  -1  2   3985920  ultralytics.nn.modules.block.C2f             [576, 576, 2, True]           \n",
            "  9                  -1  1    831168  ultralytics.nn.modules.block.SPPF            [576, 576, 5]                 \n",
            " 10                  -1  1         0  torch.nn.modules.upsampling.Upsample         [None, 2, 'nearest']          \n",
            " 11             [-1, 6]  1         0  ultralytics.nn.modules.conv.Concat           [1]                           \n",
            " 12                  -1  2   1993728  ultralytics.nn.modules.block.C2f             [960, 384, 2]                 \n",
            " 13                  -1  1         0  torch.nn.modules.upsampling.Upsample         [None, 2, 'nearest']          \n",
            " 14             [-1, 4]  1         0  ultralytics.nn.modules.conv.Concat           [1]                           \n",
            " 15                  -1  2    517632  ultralytics.nn.modules.block.C2f             [576, 192, 2]                 \n",
            " 16                  -1  1    332160  ultralytics.nn.modules.conv.Conv             [192, 192, 3, 2]              \n",
            " 17            [-1, 12]  1         0  ultralytics.nn.modules.conv.Concat           [1]                           \n",
            " 18                  -1  2   1846272  ultralytics.nn.modules.block.C2f             [576, 384, 2]                 \n",
            " 19                  -1  1   1327872  ultralytics.nn.modules.conv.Conv             [384, 384, 3, 2]              \n",
            " 20             [-1, 9]  1         0  ultralytics.nn.modules.conv.Concat           [1]                           \n",
            " 21                  -1  2   4207104  ultralytics.nn.modules.block.C2f             [960, 576, 2]                 \n",
            " 22        [15, 18, 21]  1   3776275  ultralytics.nn.modules.head.Detect           [1, [192, 384, 576]]          \n",
            "Model summary: 295 layers, 25856899 parameters, 25856883 gradients, 79.1 GFLOPs\n",
            "\n",
            "Transferred 469/475 items from pretrained weights\n",
            "\u001b[34m\u001b[1mTensorBoard: \u001b[0mStart with 'tensorboard --logdir runs/detect/train', view at http://localhost:6006/\n",
            "Freezing layer 'model.22.dfl.conv.weight'\n",
            "\u001b[34m\u001b[1mAMP: \u001b[0mrunning Automatic Mixed Precision (AMP) checks with YOLOv8n...\n",
            "Downloading https://github.com/ultralytics/assets/releases/download/v8.1.0/yolov8n.pt to 'yolov8n.pt'...\n"
          ]
        },
        {
          "output_type": "stream",
          "name": "stderr",
          "text": [
            "100%|██████████| 6.23M/6.23M [00:00<00:00, 214MB/s]\n"
          ]
        },
        {
          "output_type": "stream",
          "name": "stdout",
          "text": [
            "\u001b[34m\u001b[1mAMP: \u001b[0mchecks passed ✅\n",
            "\u001b[34m\u001b[1mAutoBatch: \u001b[0mComputing optimal batch size for imgsz=640\n",
            "\u001b[34m\u001b[1mAutoBatch: \u001b[0mCUDA:0 (Tesla T4) 14.75G total, 0.30G reserved, 0.23G allocated, 14.22G free\n",
            "      Params      GFLOPs  GPU_mem (GB)  forward (ms) backward (ms)                   input                  output\n",
            "    25856899       79.07         0.656         43.21         154.3        (1, 3, 640, 640)                    list\n",
            "    25856899       158.1         1.009         29.56         63.38        (2, 3, 640, 640)                    list\n",
            "    25856899       316.3         1.810         38.49         67.93        (4, 3, 640, 640)                    list\n",
            "    25856899       632.5         3.265         75.84         101.2        (8, 3, 640, 640)                    list\n",
            "    25856899        1265         6.296         151.9         176.6       (16, 3, 640, 640)                    list\n",
            "\u001b[34m\u001b[1mAutoBatch: \u001b[0mUsing batch-size 21 for CUDA:0 8.70G/14.75G (59%) ✅\n"
          ]
        },
        {
          "output_type": "stream",
          "name": "stderr",
          "text": [
            "\u001b[34m\u001b[1mtrain: \u001b[0mScanning /content/Missile/train/labels... 998 images, 1 backgrounds, 0 corrupt: 100%|██████████| 998/998 [00:00<00:00, 1912.31it/s]"
          ]
        },
        {
          "output_type": "stream",
          "name": "stdout",
          "text": [
            "\u001b[34m\u001b[1mtrain: \u001b[0mNew cache created: /content/Missile/train/labels.cache\n",
            "WARNING ⚠️ Box and segment counts should be equal, but got len(segments) = 21, len(boxes) = 1275. To resolve this only boxes will be used and all segments will be removed. To avoid this please supply either a detect or segment dataset, not a detect-segment mixed dataset.\n"
          ]
        },
        {
          "output_type": "stream",
          "name": "stderr",
          "text": [
            "\n"
          ]
        },
        {
          "output_type": "stream",
          "name": "stdout",
          "text": [
            "\u001b[34m\u001b[1malbumentations: \u001b[0mBlur(p=0.01, blur_limit=(3, 7)), MedianBlur(p=0.01, blur_limit=(3, 7)), ToGray(p=0.01), CLAHE(p=0.01, clip_limit=(1, 4.0), tile_grid_size=(8, 8))\n"
          ]
        },
        {
          "output_type": "stream",
          "name": "stderr",
          "text": [
            "\u001b[34m\u001b[1mval: \u001b[0mScanning /content/Missile/valid/labels... 307 images, 0 backgrounds, 0 corrupt: 100%|██████████| 307/307 [00:00<00:00, 997.46it/s]"
          ]
        },
        {
          "output_type": "stream",
          "name": "stdout",
          "text": [
            "\u001b[34m\u001b[1mval: \u001b[0mNew cache created: /content/Missile/valid/labels.cache\n",
            "WARNING ⚠️ Box and segment counts should be equal, but got len(segments) = 4, len(boxes) = 410. To resolve this only boxes will be used and all segments will be removed. To avoid this please supply either a detect or segment dataset, not a detect-segment mixed dataset.\n"
          ]
        },
        {
          "output_type": "stream",
          "name": "stderr",
          "text": [
            "\n"
          ]
        },
        {
          "output_type": "stream",
          "name": "stdout",
          "text": [
            "Plotting labels to runs/detect/train/labels.jpg... \n",
            "\u001b[34m\u001b[1moptimizer:\u001b[0m 'optimizer=auto' found, ignoring 'lr0=0.01' and 'momentum=0.937' and determining best 'optimizer', 'lr0' and 'momentum' automatically... \n",
            "\u001b[34m\u001b[1moptimizer:\u001b[0m AdamW(lr=0.002, momentum=0.9) with parameter groups 77 weight(decay=0.0), 84 weight(decay=0.0004921875), 83 bias(decay=0.0)\n",
            "\u001b[34m\u001b[1mTensorBoard: \u001b[0mmodel graph visualization added ✅\n",
            "Image sizes 640 train, 640 val\n",
            "Using 2 dataloader workers\n",
            "Logging results to \u001b[1mruns/detect/train\u001b[0m\n",
            "Starting training for 30 epochs...\n",
            "\n",
            "      Epoch    GPU_mem   box_loss   cls_loss   dfl_loss  Instances       Size\n"
          ]
        },
        {
          "output_type": "stream",
          "name": "stderr",
          "text": [
            "       1/30      9.24G      1.942      2.659      1.674         31        640: 100%|██████████| 48/48 [00:34<00:00,  1.37it/s]\n",
            "                 Class     Images  Instances      Box(P          R      mAP50  mAP50-95): 100%|██████████| 8/8 [00:06<00:00,  1.25it/s]"
          ]
        },
        {
          "output_type": "stream",
          "name": "stdout",
          "text": [
            "                   all        307        410     0.0011      0.246   0.000689   0.000245\n"
          ]
        },
        {
          "output_type": "stream",
          "name": "stderr",
          "text": [
            "\n"
          ]
        },
        {
          "output_type": "stream",
          "name": "stdout",
          "text": [
            "\n",
            "      Epoch    GPU_mem   box_loss   cls_loss   dfl_loss  Instances       Size\n"
          ]
        },
        {
          "output_type": "stream",
          "name": "stderr",
          "text": [
            "       2/30      9.66G      2.168      2.401      1.898         27        640: 100%|██████████| 48/48 [00:33<00:00,  1.44it/s]\n",
            "                 Class     Images  Instances      Box(P          R      mAP50  mAP50-95): 100%|██████████| 8/8 [00:04<00:00,  1.60it/s]"
          ]
        },
        {
          "output_type": "stream",
          "name": "stdout",
          "text": [
            "                   all        307        410    0.00109      0.112   0.000553   0.000155\n"
          ]
        },
        {
          "output_type": "stream",
          "name": "stderr",
          "text": [
            "\n"
          ]
        },
        {
          "output_type": "stream",
          "name": "stdout",
          "text": [
            "\n",
            "      Epoch    GPU_mem   box_loss   cls_loss   dfl_loss  Instances       Size\n"
          ]
        },
        {
          "output_type": "stream",
          "name": "stderr",
          "text": [
            "       3/30      9.67G       2.29      2.496      2.008         30        640: 100%|██████████| 48/48 [00:33<00:00,  1.43it/s]\n",
            "                 Class     Images  Instances      Box(P          R      mAP50  mAP50-95): 100%|██████████| 8/8 [00:05<00:00,  1.47it/s]"
          ]
        },
        {
          "output_type": "stream",
          "name": "stdout",
          "text": [
            "                   all        307        410    0.00227      0.144    0.00109   0.000335\n"
          ]
        },
        {
          "output_type": "stream",
          "name": "stderr",
          "text": [
            "\n"
          ]
        },
        {
          "output_type": "stream",
          "name": "stdout",
          "text": [
            "\n",
            "      Epoch    GPU_mem   box_loss   cls_loss   dfl_loss  Instances       Size\n"
          ]
        },
        {
          "output_type": "stream",
          "name": "stderr",
          "text": [
            "       4/30       9.5G      2.247      2.486      2.011         28        640: 100%|██████████| 48/48 [00:32<00:00,  1.47it/s]\n",
            "                 Class     Images  Instances      Box(P          R      mAP50  mAP50-95): 100%|██████████| 8/8 [00:04<00:00,  1.60it/s]"
          ]
        },
        {
          "output_type": "stream",
          "name": "stdout",
          "text": [
            "                   all        307        410     0.0125     0.0122    0.00216   0.000992\n"
          ]
        },
        {
          "output_type": "stream",
          "name": "stderr",
          "text": [
            "\n"
          ]
        },
        {
          "output_type": "stream",
          "name": "stdout",
          "text": [
            "\n",
            "      Epoch    GPU_mem   box_loss   cls_loss   dfl_loss  Instances       Size\n"
          ]
        },
        {
          "output_type": "stream",
          "name": "stderr",
          "text": [
            "       5/30       9.7G      2.236      2.418      2.024         29        640: 100%|██████████| 48/48 [00:32<00:00,  1.47it/s]\n",
            "                 Class     Images  Instances      Box(P          R      mAP50  mAP50-95): 100%|██████████| 8/8 [00:04<00:00,  1.69it/s]"
          ]
        },
        {
          "output_type": "stream",
          "name": "stdout",
          "text": [
            "                   all        307        410     0.0664      0.261     0.0353     0.0117\n"
          ]
        },
        {
          "output_type": "stream",
          "name": "stderr",
          "text": [
            "\n"
          ]
        },
        {
          "output_type": "stream",
          "name": "stdout",
          "text": [
            "\n",
            "      Epoch    GPU_mem   box_loss   cls_loss   dfl_loss  Instances       Size\n"
          ]
        },
        {
          "output_type": "stream",
          "name": "stderr",
          "text": [
            "       6/30      9.74G      2.124      2.312      1.932         27        640: 100%|██████████| 48/48 [00:33<00:00,  1.45it/s]\n",
            "                 Class     Images  Instances      Box(P          R      mAP50  mAP50-95): 100%|██████████| 8/8 [00:04<00:00,  1.78it/s]"
          ]
        },
        {
          "output_type": "stream",
          "name": "stdout",
          "text": [
            "                   all        307        410      0.266      0.309      0.189     0.0669\n"
          ]
        },
        {
          "output_type": "stream",
          "name": "stderr",
          "text": [
            "\n"
          ]
        },
        {
          "output_type": "stream",
          "name": "stdout",
          "text": [
            "\n",
            "      Epoch    GPU_mem   box_loss   cls_loss   dfl_loss  Instances       Size\n"
          ]
        },
        {
          "output_type": "stream",
          "name": "stderr",
          "text": [
            "       7/30      9.71G      2.062       2.26      1.892         25        640: 100%|██████████| 48/48 [00:32<00:00,  1.46it/s]\n",
            "                 Class     Images  Instances      Box(P          R      mAP50  mAP50-95): 100%|██████████| 8/8 [00:04<00:00,  1.81it/s]"
          ]
        },
        {
          "output_type": "stream",
          "name": "stdout",
          "text": [
            "                   all        307        410      0.309      0.276      0.223     0.0798\n"
          ]
        },
        {
          "output_type": "stream",
          "name": "stderr",
          "text": [
            "\n"
          ]
        },
        {
          "output_type": "stream",
          "name": "stdout",
          "text": [
            "\n",
            "      Epoch    GPU_mem   box_loss   cls_loss   dfl_loss  Instances       Size\n"
          ]
        },
        {
          "output_type": "stream",
          "name": "stderr",
          "text": [
            "       8/30      9.74G      2.068      2.222      1.888         21        640: 100%|██████████| 48/48 [00:33<00:00,  1.45it/s]\n",
            "                 Class     Images  Instances      Box(P          R      mAP50  mAP50-95): 100%|██████████| 8/8 [00:04<00:00,  1.82it/s]"
          ]
        },
        {
          "output_type": "stream",
          "name": "stdout",
          "text": [
            "                   all        307        410       0.36      0.227       0.15     0.0509\n"
          ]
        },
        {
          "output_type": "stream",
          "name": "stderr",
          "text": [
            "\n"
          ]
        },
        {
          "output_type": "stream",
          "name": "stdout",
          "text": [
            "\n",
            "      Epoch    GPU_mem   box_loss   cls_loss   dfl_loss  Instances       Size\n"
          ]
        },
        {
          "output_type": "stream",
          "name": "stderr",
          "text": [
            "       9/30      9.74G      1.979      2.177       1.83         31        640: 100%|██████████| 48/48 [00:32<00:00,  1.46it/s]\n",
            "                 Class     Images  Instances      Box(P          R      mAP50  mAP50-95): 100%|██████████| 8/8 [00:05<00:00,  1.46it/s]"
          ]
        },
        {
          "output_type": "stream",
          "name": "stdout",
          "text": [
            "                   all        307        410      0.428      0.285      0.283     0.0959\n"
          ]
        },
        {
          "output_type": "stream",
          "name": "stderr",
          "text": [
            "\n"
          ]
        },
        {
          "output_type": "stream",
          "name": "stdout",
          "text": [
            "\n",
            "      Epoch    GPU_mem   box_loss   cls_loss   dfl_loss  Instances       Size\n"
          ]
        },
        {
          "output_type": "stream",
          "name": "stderr",
          "text": [
            "      10/30      9.72G      1.907      2.004      1.779         22        640: 100%|██████████| 48/48 [00:32<00:00,  1.47it/s]\n",
            "                 Class     Images  Instances      Box(P          R      mAP50  mAP50-95): 100%|██████████| 8/8 [00:05<00:00,  1.54it/s]"
          ]
        },
        {
          "output_type": "stream",
          "name": "stdout",
          "text": [
            "                   all        307        410      0.468      0.473      0.415      0.165\n"
          ]
        },
        {
          "output_type": "stream",
          "name": "stderr",
          "text": [
            "\n"
          ]
        },
        {
          "output_type": "stream",
          "name": "stdout",
          "text": [
            "\n",
            "      Epoch    GPU_mem   box_loss   cls_loss   dfl_loss  Instances       Size\n"
          ]
        },
        {
          "output_type": "stream",
          "name": "stderr",
          "text": [
            "      11/30      9.72G      1.882       2.02      1.757         27        640: 100%|██████████| 48/48 [00:32<00:00,  1.47it/s]\n",
            "                 Class     Images  Instances      Box(P          R      mAP50  mAP50-95): 100%|██████████| 8/8 [00:05<00:00,  1.52it/s]"
          ]
        },
        {
          "output_type": "stream",
          "name": "stdout",
          "text": [
            "                   all        307        410      0.556      0.488      0.453      0.177\n"
          ]
        },
        {
          "output_type": "stream",
          "name": "stderr",
          "text": [
            "\n"
          ]
        },
        {
          "output_type": "stream",
          "name": "stdout",
          "text": [
            "\n",
            "      Epoch    GPU_mem   box_loss   cls_loss   dfl_loss  Instances       Size\n"
          ]
        },
        {
          "output_type": "stream",
          "name": "stderr",
          "text": [
            "      12/30      9.71G      1.849      1.921      1.719         14        640: 100%|██████████| 48/48 [00:32<00:00,  1.47it/s]\n",
            "                 Class     Images  Instances      Box(P          R      mAP50  mAP50-95): 100%|██████████| 8/8 [00:05<00:00,  1.57it/s]"
          ]
        },
        {
          "output_type": "stream",
          "name": "stdout",
          "text": [
            "                   all        307        410      0.602      0.512      0.519       0.19\n"
          ]
        },
        {
          "output_type": "stream",
          "name": "stderr",
          "text": [
            "\n"
          ]
        },
        {
          "output_type": "stream",
          "name": "stdout",
          "text": [
            "\n",
            "      Epoch    GPU_mem   box_loss   cls_loss   dfl_loss  Instances       Size\n"
          ]
        },
        {
          "output_type": "stream",
          "name": "stderr",
          "text": [
            "      13/30      9.71G       1.84       1.93      1.738         26        640: 100%|██████████| 48/48 [00:32<00:00,  1.46it/s]\n",
            "                 Class     Images  Instances      Box(P          R      mAP50  mAP50-95): 100%|██████████| 8/8 [00:04<00:00,  1.63it/s]"
          ]
        },
        {
          "output_type": "stream",
          "name": "stdout",
          "text": [
            "                   all        307        410      0.555      0.544      0.533      0.229\n"
          ]
        },
        {
          "output_type": "stream",
          "name": "stderr",
          "text": [
            "\n"
          ]
        },
        {
          "output_type": "stream",
          "name": "stdout",
          "text": [
            "\n",
            "      Epoch    GPU_mem   box_loss   cls_loss   dfl_loss  Instances       Size\n"
          ]
        },
        {
          "output_type": "stream",
          "name": "stderr",
          "text": [
            "      14/30      9.72G      1.788      1.874      1.679         21        640: 100%|██████████| 48/48 [00:32<00:00,  1.47it/s]\n",
            "                 Class     Images  Instances      Box(P          R      mAP50  mAP50-95): 100%|██████████| 8/8 [00:05<00:00,  1.53it/s]"
          ]
        },
        {
          "output_type": "stream",
          "name": "stdout",
          "text": [
            "                   all        307        410      0.648      0.557      0.618      0.258\n"
          ]
        },
        {
          "output_type": "stream",
          "name": "stderr",
          "text": [
            "\n"
          ]
        },
        {
          "output_type": "stream",
          "name": "stdout",
          "text": [
            "\n",
            "      Epoch    GPU_mem   box_loss   cls_loss   dfl_loss  Instances       Size\n"
          ]
        },
        {
          "output_type": "stream",
          "name": "stderr",
          "text": [
            "      15/30      9.71G      1.779      1.764      1.678         28        640: 100%|██████████| 48/48 [00:32<00:00,  1.46it/s]\n",
            "                 Class     Images  Instances      Box(P          R      mAP50  mAP50-95): 100%|██████████| 8/8 [00:05<00:00,  1.57it/s]"
          ]
        },
        {
          "output_type": "stream",
          "name": "stdout",
          "text": [
            "                   all        307        410      0.689      0.556      0.616       0.26\n"
          ]
        },
        {
          "output_type": "stream",
          "name": "stderr",
          "text": [
            "\n"
          ]
        },
        {
          "output_type": "stream",
          "name": "stdout",
          "text": [
            "\n",
            "      Epoch    GPU_mem   box_loss   cls_loss   dfl_loss  Instances       Size\n"
          ]
        },
        {
          "output_type": "stream",
          "name": "stderr",
          "text": [
            "      16/30      9.71G      1.746      1.751      1.653         25        640: 100%|██████████| 48/48 [00:33<00:00,  1.44it/s]\n",
            "                 Class     Images  Instances      Box(P          R      mAP50  mAP50-95): 100%|██████████| 8/8 [00:05<00:00,  1.60it/s]"
          ]
        },
        {
          "output_type": "stream",
          "name": "stdout",
          "text": [
            "                   all        307        410      0.662      0.546      0.613      0.245\n"
          ]
        },
        {
          "output_type": "stream",
          "name": "stderr",
          "text": [
            "\n"
          ]
        },
        {
          "output_type": "stream",
          "name": "stdout",
          "text": [
            "\n",
            "      Epoch    GPU_mem   box_loss   cls_loss   dfl_loss  Instances       Size\n"
          ]
        },
        {
          "output_type": "stream",
          "name": "stderr",
          "text": [
            "      17/30       9.7G      1.718      1.699      1.623         25        640: 100%|██████████| 48/48 [00:32<00:00,  1.48it/s]\n",
            "                 Class     Images  Instances      Box(P          R      mAP50  mAP50-95): 100%|██████████| 8/8 [00:05<00:00,  1.56it/s]"
          ]
        },
        {
          "output_type": "stream",
          "name": "stdout",
          "text": [
            "                   all        307        410      0.635      0.563      0.603      0.248\n"
          ]
        },
        {
          "output_type": "stream",
          "name": "stderr",
          "text": [
            "\n"
          ]
        },
        {
          "output_type": "stream",
          "name": "stdout",
          "text": [
            "\n",
            "      Epoch    GPU_mem   box_loss   cls_loss   dfl_loss  Instances       Size\n"
          ]
        },
        {
          "output_type": "stream",
          "name": "stderr",
          "text": [
            "      18/30      9.74G      1.687       1.63      1.604         18        640: 100%|██████████| 48/48 [00:32<00:00,  1.48it/s]\n",
            "                 Class     Images  Instances      Box(P          R      mAP50  mAP50-95): 100%|██████████| 8/8 [00:04<00:00,  1.69it/s]"
          ]
        },
        {
          "output_type": "stream",
          "name": "stdout",
          "text": [
            "                   all        307        410      0.684      0.618      0.668      0.292\n"
          ]
        },
        {
          "output_type": "stream",
          "name": "stderr",
          "text": [
            "\n"
          ]
        },
        {
          "output_type": "stream",
          "name": "stdout",
          "text": [
            "\n",
            "      Epoch    GPU_mem   box_loss   cls_loss   dfl_loss  Instances       Size\n"
          ]
        },
        {
          "output_type": "stream",
          "name": "stderr",
          "text": [
            "      19/30      9.71G      1.676      1.625      1.599         23        640: 100%|██████████| 48/48 [00:33<00:00,  1.45it/s]\n",
            "                 Class     Images  Instances      Box(P          R      mAP50  mAP50-95): 100%|██████████| 8/8 [00:04<00:00,  1.80it/s]"
          ]
        },
        {
          "output_type": "stream",
          "name": "stdout",
          "text": [
            "                   all        307        410      0.708       0.62      0.676      0.303\n"
          ]
        },
        {
          "output_type": "stream",
          "name": "stderr",
          "text": [
            "\n"
          ]
        },
        {
          "output_type": "stream",
          "name": "stdout",
          "text": [
            "\n",
            "      Epoch    GPU_mem   box_loss   cls_loss   dfl_loss  Instances       Size\n"
          ]
        },
        {
          "output_type": "stream",
          "name": "stderr",
          "text": [
            "      20/30      9.71G      1.629      1.552      1.551         16        640: 100%|██████████| 48/48 [00:32<00:00,  1.47it/s]\n",
            "                 Class     Images  Instances      Box(P          R      mAP50  mAP50-95): 100%|██████████| 8/8 [00:04<00:00,  1.76it/s]"
          ]
        },
        {
          "output_type": "stream",
          "name": "stdout",
          "text": [
            "                   all        307        410      0.728      0.617      0.682      0.318\n"
          ]
        },
        {
          "output_type": "stream",
          "name": "stderr",
          "text": [
            "\n"
          ]
        },
        {
          "output_type": "stream",
          "name": "stdout",
          "text": [
            "Closing dataloader mosaic\n",
            "\u001b[34m\u001b[1malbumentations: \u001b[0mBlur(p=0.01, blur_limit=(3, 7)), MedianBlur(p=0.01, blur_limit=(3, 7)), ToGray(p=0.01), CLAHE(p=0.01, clip_limit=(1, 4.0), tile_grid_size=(8, 8))\n",
            "\n",
            "      Epoch    GPU_mem   box_loss   cls_loss   dfl_loss  Instances       Size\n"
          ]
        },
        {
          "output_type": "stream",
          "name": "stderr",
          "text": [
            "      21/30      9.71G      1.688      1.539      1.605         15        640: 100%|██████████| 48/48 [00:33<00:00,  1.43it/s]\n",
            "                 Class     Images  Instances      Box(P          R      mAP50  mAP50-95): 100%|██████████| 8/8 [00:04<00:00,  1.66it/s]"
          ]
        },
        {
          "output_type": "stream",
          "name": "stdout",
          "text": [
            "                   all        307        410      0.776      0.629      0.726       0.33\n"
          ]
        },
        {
          "output_type": "stream",
          "name": "stderr",
          "text": [
            "\n"
          ]
        },
        {
          "output_type": "stream",
          "name": "stdout",
          "text": [
            "\n",
            "      Epoch    GPU_mem   box_loss   cls_loss   dfl_loss  Instances       Size\n"
          ]
        },
        {
          "output_type": "stream",
          "name": "stderr",
          "text": [
            "      22/30      9.71G       1.67       1.46      1.567         11        640: 100%|██████████| 48/48 [00:32<00:00,  1.47it/s]\n",
            "                 Class     Images  Instances      Box(P          R      mAP50  mAP50-95): 100%|██████████| 8/8 [00:05<00:00,  1.59it/s]"
          ]
        },
        {
          "output_type": "stream",
          "name": "stdout",
          "text": [
            "                   all        307        410      0.737      0.654      0.729      0.334\n"
          ]
        },
        {
          "output_type": "stream",
          "name": "stderr",
          "text": [
            "\n"
          ]
        },
        {
          "output_type": "stream",
          "name": "stdout",
          "text": [
            "\n",
            "      Epoch    GPU_mem   box_loss   cls_loss   dfl_loss  Instances       Size\n"
          ]
        },
        {
          "output_type": "stream",
          "name": "stderr",
          "text": [
            "      23/30      9.74G      1.635      1.394       1.54         12        640: 100%|██████████| 48/48 [00:32<00:00,  1.48it/s]\n",
            "                 Class     Images  Instances      Box(P          R      mAP50  mAP50-95): 100%|██████████| 8/8 [00:04<00:00,  1.65it/s]"
          ]
        },
        {
          "output_type": "stream",
          "name": "stdout",
          "text": [
            "                   all        307        410      0.774      0.711       0.76      0.352\n"
          ]
        },
        {
          "output_type": "stream",
          "name": "stderr",
          "text": [
            "\n"
          ]
        },
        {
          "output_type": "stream",
          "name": "stdout",
          "text": [
            "\n",
            "      Epoch    GPU_mem   box_loss   cls_loss   dfl_loss  Instances       Size\n"
          ]
        },
        {
          "output_type": "stream",
          "name": "stderr",
          "text": [
            "      24/30      9.72G      1.603      1.364      1.532         12        640: 100%|██████████| 48/48 [00:32<00:00,  1.49it/s]\n",
            "                 Class     Images  Instances      Box(P          R      mAP50  mAP50-95): 100%|██████████| 8/8 [00:04<00:00,  1.82it/s]"
          ]
        },
        {
          "output_type": "stream",
          "name": "stdout",
          "text": [
            "                   all        307        410      0.741      0.702      0.763       0.37\n"
          ]
        },
        {
          "output_type": "stream",
          "name": "stderr",
          "text": [
            "\n"
          ]
        },
        {
          "output_type": "stream",
          "name": "stdout",
          "text": [
            "\n",
            "      Epoch    GPU_mem   box_loss   cls_loss   dfl_loss  Instances       Size\n"
          ]
        },
        {
          "output_type": "stream",
          "name": "stderr",
          "text": [
            "      25/30      9.71G      1.573      1.274      1.511         12        640: 100%|██████████| 48/48 [00:32<00:00,  1.46it/s]\n",
            "                 Class     Images  Instances      Box(P          R      mAP50  mAP50-95): 100%|██████████| 8/8 [00:04<00:00,  1.83it/s]"
          ]
        },
        {
          "output_type": "stream",
          "name": "stdout",
          "text": [
            "                   all        307        410      0.744       0.68      0.747      0.355\n"
          ]
        },
        {
          "output_type": "stream",
          "name": "stderr",
          "text": [
            "\n"
          ]
        },
        {
          "output_type": "stream",
          "name": "stdout",
          "text": [
            "\n",
            "      Epoch    GPU_mem   box_loss   cls_loss   dfl_loss  Instances       Size\n"
          ]
        },
        {
          "output_type": "stream",
          "name": "stderr",
          "text": [
            "      26/30      9.71G      1.552      1.263      1.505         15        640: 100%|██████████| 48/48 [00:32<00:00,  1.48it/s]\n",
            "                 Class     Images  Instances      Box(P          R      mAP50  mAP50-95): 100%|██████████| 8/8 [00:04<00:00,  1.73it/s]"
          ]
        },
        {
          "output_type": "stream",
          "name": "stdout",
          "text": [
            "                   all        307        410      0.736      0.727      0.768      0.379\n"
          ]
        },
        {
          "output_type": "stream",
          "name": "stderr",
          "text": [
            "\n"
          ]
        },
        {
          "output_type": "stream",
          "name": "stdout",
          "text": [
            "\n",
            "      Epoch    GPU_mem   box_loss   cls_loss   dfl_loss  Instances       Size\n"
          ]
        },
        {
          "output_type": "stream",
          "name": "stderr",
          "text": [
            "      27/30      9.71G      1.529      1.232      1.478         13        640: 100%|██████████| 48/48 [00:32<00:00,  1.48it/s]\n",
            "                 Class     Images  Instances      Box(P          R      mAP50  mAP50-95): 100%|██████████| 8/8 [00:05<00:00,  1.59it/s]"
          ]
        },
        {
          "output_type": "stream",
          "name": "stdout",
          "text": [
            "                   all        307        410      0.789      0.724      0.787      0.398\n"
          ]
        },
        {
          "output_type": "stream",
          "name": "stderr",
          "text": [
            "\n"
          ]
        },
        {
          "output_type": "stream",
          "name": "stdout",
          "text": [
            "\n",
            "      Epoch    GPU_mem   box_loss   cls_loss   dfl_loss  Instances       Size\n"
          ]
        },
        {
          "output_type": "stream",
          "name": "stderr",
          "text": [
            "      28/30      9.71G      1.493      1.198      1.463         12        640: 100%|██████████| 48/48 [00:32<00:00,  1.47it/s]\n",
            "                 Class     Images  Instances      Box(P          R      mAP50  mAP50-95): 100%|██████████| 8/8 [00:05<00:00,  1.47it/s]"
          ]
        },
        {
          "output_type": "stream",
          "name": "stdout",
          "text": [
            "                   all        307        410      0.805       0.72      0.794      0.407\n"
          ]
        },
        {
          "output_type": "stream",
          "name": "stderr",
          "text": [
            "\n"
          ]
        },
        {
          "output_type": "stream",
          "name": "stdout",
          "text": [
            "\n",
            "      Epoch    GPU_mem   box_loss   cls_loss   dfl_loss  Instances       Size\n"
          ]
        },
        {
          "output_type": "stream",
          "name": "stderr",
          "text": [
            "      29/30      9.75G      1.454      1.156      1.439         14        640: 100%|██████████| 48/48 [00:32<00:00,  1.48it/s]\n",
            "                 Class     Images  Instances      Box(P          R      mAP50  mAP50-95): 100%|██████████| 8/8 [00:05<00:00,  1.55it/s]"
          ]
        },
        {
          "output_type": "stream",
          "name": "stdout",
          "text": [
            "                   all        307        410      0.773      0.734      0.796        0.4\n"
          ]
        },
        {
          "output_type": "stream",
          "name": "stderr",
          "text": [
            "\n"
          ]
        },
        {
          "output_type": "stream",
          "name": "stdout",
          "text": [
            "\n",
            "      Epoch    GPU_mem   box_loss   cls_loss   dfl_loss  Instances       Size\n"
          ]
        },
        {
          "output_type": "stream",
          "name": "stderr",
          "text": [
            "      30/30      9.71G      1.468      1.108      1.451         13        640: 100%|██████████| 48/48 [00:32<00:00,  1.49it/s]\n",
            "                 Class     Images  Instances      Box(P          R      mAP50  mAP50-95): 100%|██████████| 8/8 [00:04<00:00,  1.74it/s]"
          ]
        },
        {
          "output_type": "stream",
          "name": "stdout",
          "text": [
            "                   all        307        410      0.832      0.729      0.816       0.43\n"
          ]
        },
        {
          "output_type": "stream",
          "name": "stderr",
          "text": [
            "\n"
          ]
        },
        {
          "output_type": "stream",
          "name": "stdout",
          "text": [
            "\n",
            "30 epochs completed in 0.343 hours.\n",
            "Optimizer stripped from runs/detect/train/weights/last.pt, 52.0MB\n",
            "Optimizer stripped from runs/detect/train/weights/best.pt, 52.0MB\n",
            "\n",
            "Validating runs/detect/train/weights/best.pt...\n",
            "Ultralytics YOLOv8.1.14 🚀 Python-3.10.12 torch-2.1.0+cu121 CUDA:0 (Tesla T4, 15102MiB)\n",
            "Model summary (fused): 218 layers, 25840339 parameters, 0 gradients, 78.7 GFLOPs\n"
          ]
        },
        {
          "output_type": "stream",
          "name": "stderr",
          "text": [
            "                 Class     Images  Instances      Box(P          R      mAP50  mAP50-95): 100%|██████████| 8/8 [00:08<00:00,  1.01s/it]\n"
          ]
        },
        {
          "output_type": "stream",
          "name": "stdout",
          "text": [
            "                   all        307        410      0.833      0.732      0.816       0.43\n",
            "Speed: 0.4ms preprocess, 10.2ms inference, 0.0ms loss, 3.9ms postprocess per image\n",
            "Results saved to \u001b[1mruns/detect/train\u001b[0m\n"
          ]
        },
        {
          "output_type": "execute_result",
          "data": {
            "text/plain": [
              "ultralytics.utils.metrics.DetMetrics object with attributes:\n",
              "\n",
              "ap_class_index: array([0])\n",
              "box: ultralytics.utils.metrics.Metric object\n",
              "confusion_matrix: <ultralytics.utils.metrics.ConfusionMatrix object at 0x7d971b5e13f0>\n",
              "curves: ['Precision-Recall(B)', 'F1-Confidence(B)', 'Precision-Confidence(B)', 'Recall-Confidence(B)']\n",
              "curves_results: [[array([          0,    0.001001,    0.002002,    0.003003,    0.004004,    0.005005,    0.006006,    0.007007,    0.008008,    0.009009,     0.01001,    0.011011,    0.012012,    0.013013,    0.014014,    0.015015,    0.016016,    0.017017,    0.018018,    0.019019,     0.02002,    0.021021,    0.022022,    0.023023,\n",
              "          0.024024,    0.025025,    0.026026,    0.027027,    0.028028,    0.029029,     0.03003,    0.031031,    0.032032,    0.033033,    0.034034,    0.035035,    0.036036,    0.037037,    0.038038,    0.039039,     0.04004,    0.041041,    0.042042,    0.043043,    0.044044,    0.045045,    0.046046,    0.047047,\n",
              "          0.048048,    0.049049,     0.05005,    0.051051,    0.052052,    0.053053,    0.054054,    0.055055,    0.056056,    0.057057,    0.058058,    0.059059,     0.06006,    0.061061,    0.062062,    0.063063,    0.064064,    0.065065,    0.066066,    0.067067,    0.068068,    0.069069,     0.07007,    0.071071,\n",
              "          0.072072,    0.073073,    0.074074,    0.075075,    0.076076,    0.077077,    0.078078,    0.079079,     0.08008,    0.081081,    0.082082,    0.083083,    0.084084,    0.085085,    0.086086,    0.087087,    0.088088,    0.089089,     0.09009,    0.091091,    0.092092,    0.093093,    0.094094,    0.095095,\n",
              "          0.096096,    0.097097,    0.098098,    0.099099,      0.1001,      0.1011,      0.1021,      0.1031,      0.1041,     0.10511,     0.10611,     0.10711,     0.10811,     0.10911,     0.11011,     0.11111,     0.11211,     0.11311,     0.11411,     0.11512,     0.11612,     0.11712,     0.11812,     0.11912,\n",
              "           0.12012,     0.12112,     0.12212,     0.12312,     0.12412,     0.12513,     0.12613,     0.12713,     0.12813,     0.12913,     0.13013,     0.13113,     0.13213,     0.13313,     0.13413,     0.13514,     0.13614,     0.13714,     0.13814,     0.13914,     0.14014,     0.14114,     0.14214,     0.14314,\n",
              "           0.14414,     0.14515,     0.14615,     0.14715,     0.14815,     0.14915,     0.15015,     0.15115,     0.15215,     0.15315,     0.15415,     0.15516,     0.15616,     0.15716,     0.15816,     0.15916,     0.16016,     0.16116,     0.16216,     0.16316,     0.16416,     0.16517,     0.16617,     0.16717,\n",
              "           0.16817,     0.16917,     0.17017,     0.17117,     0.17217,     0.17317,     0.17417,     0.17518,     0.17618,     0.17718,     0.17818,     0.17918,     0.18018,     0.18118,     0.18218,     0.18318,     0.18418,     0.18519,     0.18619,     0.18719,     0.18819,     0.18919,     0.19019,     0.19119,\n",
              "           0.19219,     0.19319,     0.19419,      0.1952,      0.1962,      0.1972,      0.1982,      0.1992,      0.2002,      0.2012,      0.2022,      0.2032,      0.2042,     0.20521,     0.20621,     0.20721,     0.20821,     0.20921,     0.21021,     0.21121,     0.21221,     0.21321,     0.21421,     0.21522,\n",
              "           0.21622,     0.21722,     0.21822,     0.21922,     0.22022,     0.22122,     0.22222,     0.22322,     0.22422,     0.22523,     0.22623,     0.22723,     0.22823,     0.22923,     0.23023,     0.23123,     0.23223,     0.23323,     0.23423,     0.23524,     0.23624,     0.23724,     0.23824,     0.23924,\n",
              "           0.24024,     0.24124,     0.24224,     0.24324,     0.24424,     0.24525,     0.24625,     0.24725,     0.24825,     0.24925,     0.25025,     0.25125,     0.25225,     0.25325,     0.25425,     0.25526,     0.25626,     0.25726,     0.25826,     0.25926,     0.26026,     0.26126,     0.26226,     0.26326,\n",
              "           0.26426,     0.26527,     0.26627,     0.26727,     0.26827,     0.26927,     0.27027,     0.27127,     0.27227,     0.27327,     0.27427,     0.27528,     0.27628,     0.27728,     0.27828,     0.27928,     0.28028,     0.28128,     0.28228,     0.28328,     0.28428,     0.28529,     0.28629,     0.28729,\n",
              "           0.28829,     0.28929,     0.29029,     0.29129,     0.29229,     0.29329,     0.29429,      0.2953,      0.2963,      0.2973,      0.2983,      0.2993,      0.3003,      0.3013,      0.3023,      0.3033,      0.3043,     0.30531,     0.30631,     0.30731,     0.30831,     0.30931,     0.31031,     0.31131,\n",
              "           0.31231,     0.31331,     0.31431,     0.31532,     0.31632,     0.31732,     0.31832,     0.31932,     0.32032,     0.32132,     0.32232,     0.32332,     0.32432,     0.32533,     0.32633,     0.32733,     0.32833,     0.32933,     0.33033,     0.33133,     0.33233,     0.33333,     0.33433,     0.33534,\n",
              "           0.33634,     0.33734,     0.33834,     0.33934,     0.34034,     0.34134,     0.34234,     0.34334,     0.34434,     0.34535,     0.34635,     0.34735,     0.34835,     0.34935,     0.35035,     0.35135,     0.35235,     0.35335,     0.35435,     0.35536,     0.35636,     0.35736,     0.35836,     0.35936,\n",
              "           0.36036,     0.36136,     0.36236,     0.36336,     0.36436,     0.36537,     0.36637,     0.36737,     0.36837,     0.36937,     0.37037,     0.37137,     0.37237,     0.37337,     0.37437,     0.37538,     0.37638,     0.37738,     0.37838,     0.37938,     0.38038,     0.38138,     0.38238,     0.38338,\n",
              "           0.38438,     0.38539,     0.38639,     0.38739,     0.38839,     0.38939,     0.39039,     0.39139,     0.39239,     0.39339,     0.39439,      0.3954,      0.3964,      0.3974,      0.3984,      0.3994,      0.4004,      0.4014,      0.4024,      0.4034,      0.4044,     0.40541,     0.40641,     0.40741,\n",
              "           0.40841,     0.40941,     0.41041,     0.41141,     0.41241,     0.41341,     0.41441,     0.41542,     0.41642,     0.41742,     0.41842,     0.41942,     0.42042,     0.42142,     0.42242,     0.42342,     0.42442,     0.42543,     0.42643,     0.42743,     0.42843,     0.42943,     0.43043,     0.43143,\n",
              "           0.43243,     0.43343,     0.43443,     0.43544,     0.43644,     0.43744,     0.43844,     0.43944,     0.44044,     0.44144,     0.44244,     0.44344,     0.44444,     0.44545,     0.44645,     0.44745,     0.44845,     0.44945,     0.45045,     0.45145,     0.45245,     0.45345,     0.45445,     0.45546,\n",
              "           0.45646,     0.45746,     0.45846,     0.45946,     0.46046,     0.46146,     0.46246,     0.46346,     0.46446,     0.46547,     0.46647,     0.46747,     0.46847,     0.46947,     0.47047,     0.47147,     0.47247,     0.47347,     0.47447,     0.47548,     0.47648,     0.47748,     0.47848,     0.47948,\n",
              "           0.48048,     0.48148,     0.48248,     0.48348,     0.48448,     0.48549,     0.48649,     0.48749,     0.48849,     0.48949,     0.49049,     0.49149,     0.49249,     0.49349,     0.49449,      0.4955,      0.4965,      0.4975,      0.4985,      0.4995,      0.5005,      0.5015,      0.5025,      0.5035,\n",
              "            0.5045,     0.50551,     0.50651,     0.50751,     0.50851,     0.50951,     0.51051,     0.51151,     0.51251,     0.51351,     0.51451,     0.51552,     0.51652,     0.51752,     0.51852,     0.51952,     0.52052,     0.52152,     0.52252,     0.52352,     0.52452,     0.52553,     0.52653,     0.52753,\n",
              "           0.52853,     0.52953,     0.53053,     0.53153,     0.53253,     0.53353,     0.53453,     0.53554,     0.53654,     0.53754,     0.53854,     0.53954,     0.54054,     0.54154,     0.54254,     0.54354,     0.54454,     0.54555,     0.54655,     0.54755,     0.54855,     0.54955,     0.55055,     0.55155,\n",
              "           0.55255,     0.55355,     0.55455,     0.55556,     0.55656,     0.55756,     0.55856,     0.55956,     0.56056,     0.56156,     0.56256,     0.56356,     0.56456,     0.56557,     0.56657,     0.56757,     0.56857,     0.56957,     0.57057,     0.57157,     0.57257,     0.57357,     0.57457,     0.57558,\n",
              "           0.57658,     0.57758,     0.57858,     0.57958,     0.58058,     0.58158,     0.58258,     0.58358,     0.58458,     0.58559,     0.58659,     0.58759,     0.58859,     0.58959,     0.59059,     0.59159,     0.59259,     0.59359,     0.59459,      0.5956,      0.5966,      0.5976,      0.5986,      0.5996,\n",
              "            0.6006,      0.6016,      0.6026,      0.6036,      0.6046,     0.60561,     0.60661,     0.60761,     0.60861,     0.60961,     0.61061,     0.61161,     0.61261,     0.61361,     0.61461,     0.61562,     0.61662,     0.61762,     0.61862,     0.61962,     0.62062,     0.62162,     0.62262,     0.62362,\n",
              "           0.62462,     0.62563,     0.62663,     0.62763,     0.62863,     0.62963,     0.63063,     0.63163,     0.63263,     0.63363,     0.63463,     0.63564,     0.63664,     0.63764,     0.63864,     0.63964,     0.64064,     0.64164,     0.64264,     0.64364,     0.64464,     0.64565,     0.64665,     0.64765,\n",
              "           0.64865,     0.64965,     0.65065,     0.65165,     0.65265,     0.65365,     0.65465,     0.65566,     0.65666,     0.65766,     0.65866,     0.65966,     0.66066,     0.66166,     0.66266,     0.66366,     0.66466,     0.66567,     0.66667,     0.66767,     0.66867,     0.66967,     0.67067,     0.67167,\n",
              "           0.67267,     0.67367,     0.67467,     0.67568,     0.67668,     0.67768,     0.67868,     0.67968,     0.68068,     0.68168,     0.68268,     0.68368,     0.68468,     0.68569,     0.68669,     0.68769,     0.68869,     0.68969,     0.69069,     0.69169,     0.69269,     0.69369,     0.69469,      0.6957,\n",
              "            0.6967,      0.6977,      0.6987,      0.6997,      0.7007,      0.7017,      0.7027,      0.7037,      0.7047,     0.70571,     0.70671,     0.70771,     0.70871,     0.70971,     0.71071,     0.71171,     0.71271,     0.71371,     0.71471,     0.71572,     0.71672,     0.71772,     0.71872,     0.71972,\n",
              "           0.72072,     0.72172,     0.72272,     0.72372,     0.72472,     0.72573,     0.72673,     0.72773,     0.72873,     0.72973,     0.73073,     0.73173,     0.73273,     0.73373,     0.73473,     0.73574,     0.73674,     0.73774,     0.73874,     0.73974,     0.74074,     0.74174,     0.74274,     0.74374,\n",
              "           0.74474,     0.74575,     0.74675,     0.74775,     0.74875,     0.74975,     0.75075,     0.75175,     0.75275,     0.75375,     0.75475,     0.75576,     0.75676,     0.75776,     0.75876,     0.75976,     0.76076,     0.76176,     0.76276,     0.76376,     0.76476,     0.76577,     0.76677,     0.76777,\n",
              "           0.76877,     0.76977,     0.77077,     0.77177,     0.77277,     0.77377,     0.77477,     0.77578,     0.77678,     0.77778,     0.77878,     0.77978,     0.78078,     0.78178,     0.78278,     0.78378,     0.78478,     0.78579,     0.78679,     0.78779,     0.78879,     0.78979,     0.79079,     0.79179,\n",
              "           0.79279,     0.79379,     0.79479,      0.7958,      0.7968,      0.7978,      0.7988,      0.7998,      0.8008,      0.8018,      0.8028,      0.8038,      0.8048,     0.80581,     0.80681,     0.80781,     0.80881,     0.80981,     0.81081,     0.81181,     0.81281,     0.81381,     0.81481,     0.81582,\n",
              "           0.81682,     0.81782,     0.81882,     0.81982,     0.82082,     0.82182,     0.82282,     0.82382,     0.82482,     0.82583,     0.82683,     0.82783,     0.82883,     0.82983,     0.83083,     0.83183,     0.83283,     0.83383,     0.83483,     0.83584,     0.83684,     0.83784,     0.83884,     0.83984,\n",
              "           0.84084,     0.84184,     0.84284,     0.84384,     0.84484,     0.84585,     0.84685,     0.84785,     0.84885,     0.84985,     0.85085,     0.85185,     0.85285,     0.85385,     0.85485,     0.85586,     0.85686,     0.85786,     0.85886,     0.85986,     0.86086,     0.86186,     0.86286,     0.86386,\n",
              "           0.86486,     0.86587,     0.86687,     0.86787,     0.86887,     0.86987,     0.87087,     0.87187,     0.87287,     0.87387,     0.87487,     0.87588,     0.87688,     0.87788,     0.87888,     0.87988,     0.88088,     0.88188,     0.88288,     0.88388,     0.88488,     0.88589,     0.88689,     0.88789,\n",
              "           0.88889,     0.88989,     0.89089,     0.89189,     0.89289,     0.89389,     0.89489,      0.8959,      0.8969,      0.8979,      0.8989,      0.8999,      0.9009,      0.9019,      0.9029,      0.9039,      0.9049,     0.90591,     0.90691,     0.90791,     0.90891,     0.90991,     0.91091,     0.91191,\n",
              "           0.91291,     0.91391,     0.91491,     0.91592,     0.91692,     0.91792,     0.91892,     0.91992,     0.92092,     0.92192,     0.92292,     0.92392,     0.92492,     0.92593,     0.92693,     0.92793,     0.92893,     0.92993,     0.93093,     0.93193,     0.93293,     0.93393,     0.93493,     0.93594,\n",
              "           0.93694,     0.93794,     0.93894,     0.93994,     0.94094,     0.94194,     0.94294,     0.94394,     0.94494,     0.94595,     0.94695,     0.94795,     0.94895,     0.94995,     0.95095,     0.95195,     0.95295,     0.95395,     0.95495,     0.95596,     0.95696,     0.95796,     0.95896,     0.95996,\n",
              "           0.96096,     0.96196,     0.96296,     0.96396,     0.96496,     0.96597,     0.96697,     0.96797,     0.96897,     0.96997,     0.97097,     0.97197,     0.97297,     0.97397,     0.97497,     0.97598,     0.97698,     0.97798,     0.97898,     0.97998,     0.98098,     0.98198,     0.98298,     0.98398,\n",
              "           0.98498,     0.98599,     0.98699,     0.98799,     0.98899,     0.98999,     0.99099,     0.99199,     0.99299,     0.99399,     0.99499,       0.996,       0.997,       0.998,       0.999,           1]), array([[          1,           1,           1,           1,           1,           1,           1,           1,           1,           1,           1,           1,           1,           1,           1,           1,           1,           1,           1,           1,           1,           1,           1,\n",
              "                  1,           1,           1,           1,           1,           1,           1,           1,           1,           1,           1,           1,           1,           1,           1,           1,           1,           1,           1,           1,           1,           1,           1,\n",
              "                  1,           1,           1,           1,           1,           1,           1,           1,           1,           1,           1,           1,           1,           1,           1,           1,           1,           1,           1,           1,           1,           1,           1,\n",
              "                  1,           1,           1,           1,           1,           1,           1,           1,           1,           1,           1,           1,           1,           1,           1,           1,           1,           1,           1,           1,           1,           1,           1,\n",
              "                  1,           1,           1,           1,           1,           1,           1,           1,           1,           1,           1,           1,           1,           1,           1,           1,           1,           1,           1,           1,           1,           1,           1,\n",
              "                  1,           1,           1,           1,           1,           1,           1,           1,           1,           1,           1,           1,           1,           1,           1,           1,           1,           1,           1,           1,           1,           1,           1,\n",
              "                  1,           1,           1,           1,           1,           1,           1,           1,           1,           1,           1,           1,           1,           1,           1,           1,           1,           1,           1,           1,           1,     0.98551,     0.98551,\n",
              "            0.98551,     0.98551,     0.98551,     0.98551,     0.98551,     0.97701,     0.97701,     0.97701,     0.97701,     0.97701,     0.97701,     0.97701,     0.97701,     0.97701,     0.97701,     0.97701,     0.97701,     0.97701,     0.97701,     0.97701,     0.97701,     0.97701,     0.97701,\n",
              "            0.97701,     0.97701,     0.97701,     0.97701,     0.97701,     0.97701,     0.97701,     0.97701,     0.97701,     0.97701,     0.97701,     0.97701,     0.97701,     0.97701,     0.97701,     0.97701,     0.97701,     0.97701,     0.97701,     0.97701,     0.97701,     0.97701,     0.97701,\n",
              "            0.97701,     0.96703,     0.96703,     0.96703,     0.96703,     0.96703,     0.96703,     0.96703,        0.96,        0.96,        0.96,        0.96,        0.96,        0.96,        0.96,        0.96,        0.96,        0.96,        0.96,        0.96,        0.96,        0.96,        0.96,\n",
              "               0.96,        0.96,        0.96,        0.96,     0.94702,     0.94702,     0.94702,     0.94702,     0.94702,     0.94702,     0.94702,     0.94702,     0.94702,     0.94702,     0.94702,     0.94702,     0.94702,     0.94702,     0.94702,     0.94702,     0.94702,     0.94702,     0.94702,\n",
              "            0.94702,     0.94702,     0.94702,     0.94702,     0.94702,     0.94702,     0.94702,     0.94702,     0.94702,     0.94702,     0.94702,     0.94702,     0.94702,     0.94702,     0.94702,     0.94702,     0.94702,     0.94702,     0.94702,     0.94702,     0.94702,     0.94702,     0.94702,\n",
              "            0.94702,     0.94702,     0.94702,     0.94702,     0.94702,     0.94702,     0.94702,     0.94702,     0.94702,     0.94702,     0.94702,     0.94702,     0.94702,     0.94702,     0.94702,     0.94702,     0.94702,     0.94702,     0.94702,     0.94702,     0.94702,     0.94702,     0.94702,\n",
              "            0.94702,     0.94702,     0.94702,     0.94702,     0.94702,     0.94702,     0.94702,     0.94702,     0.94702,     0.94702,     0.94702,     0.94702,     0.94702,     0.94702,     0.94702,     0.94702,     0.94702,     0.94702,     0.94702,     0.94702,     0.94702,     0.94702,     0.94702,\n",
              "            0.94702,     0.94702,     0.94702,     0.94702,     0.94702,     0.94702,     0.94702,     0.94702,     0.94702,     0.94702,     0.94702,     0.94702,     0.94702,     0.94702,     0.94702,     0.94702,     0.94702,     0.94702,     0.94702,     0.94702,     0.94702,     0.94702,     0.94702,\n",
              "            0.94702,     0.94702,     0.94702,     0.94702,     0.94375,     0.94375,     0.94375,     0.94375,     0.94375,     0.94375,     0.94375,     0.94375,     0.94375,     0.94375,     0.94375,     0.94375,     0.94375,     0.94375,     0.94375,     0.94375,     0.94375,     0.94375,     0.94375,\n",
              "            0.94012,     0.94012,     0.94012,     0.94012,     0.94012,     0.94012,     0.94012,     0.94012,     0.94012,     0.94012,     0.94012,     0.94012,     0.94012,     0.94012,     0.94012,     0.93548,     0.93548,     0.93548,     0.93548,     0.93548,     0.93548,     0.93548,     0.93548,\n",
              "            0.93548,     0.93548,     0.93548,     0.93548,     0.93548,     0.93548,     0.93548,     0.93548,     0.93548,     0.93548,     0.93548,     0.93548,     0.93548,     0.93548,     0.93548,     0.93548,     0.93548,     0.93548,     0.93548,     0.93548,     0.93548,     0.93548,     0.93548,\n",
              "            0.93548,     0.93548,     0.93548,     0.93548,     0.93548,     0.93548,     0.93548,     0.93548,     0.93548,     0.93548,     0.93548,     0.93548,     0.93548,     0.93548,     0.93548,     0.93548,     0.93548,     0.93548,     0.93548,     0.93548,     0.93548,     0.93548,     0.93548,\n",
              "            0.93548,     0.93548,     0.93548,     0.93548,     0.93548,     0.93548,     0.93548,     0.93548,     0.93548,     0.93548,     0.93548,     0.93548,     0.93548,     0.93548,     0.93548,     0.93548,     0.93548,     0.93548,     0.93548,     0.93548,     0.93548,     0.93548,     0.93548,\n",
              "            0.93548,     0.93548,     0.93548,     0.93548,     0.93548,     0.93548,     0.93548,     0.93548,     0.93548,     0.93548,     0.93548,     0.93548,     0.93548,     0.93548,     0.93548,     0.93548,     0.93548,     0.93548,     0.93548,     0.93548,     0.93548,     0.93548,     0.93548,\n",
              "            0.93548,     0.93548,     0.93548,     0.93548,     0.93548,     0.93548,     0.93548,     0.93548,     0.93548,     0.93548,     0.93548,     0.93548,     0.93548,     0.93548,     0.93548,     0.93548,     0.93548,     0.93548,     0.93548,     0.93548,     0.93548,     0.93548,     0.93548,\n",
              "            0.93548,     0.93548,     0.93548,     0.93548,     0.93548,     0.93548,     0.93548,     0.93548,     0.93548,     0.93548,     0.93548,     0.93548,     0.93548,     0.93548,     0.93548,     0.93548,     0.93548,     0.93548,     0.93548,     0.93548,     0.93548,     0.93548,     0.93548,\n",
              "            0.93548,     0.93548,     0.93548,     0.93548,     0.93548,     0.93548,     0.93548,     0.93548,     0.93548,     0.93548,     0.93548,     0.93548,     0.93548,     0.93548,     0.93548,     0.93548,     0.93548,     0.93548,     0.93548,     0.93548,     0.93548,     0.93548,     0.93548,\n",
              "            0.93548,     0.93548,     0.93548,     0.93548,     0.93548,     0.93548,     0.93548,     0.93548,     0.93548,     0.93548,     0.93548,     0.93548,     0.93548,     0.93548,     0.93307,     0.93307,     0.93307,     0.93307,     0.93307,     0.93307,     0.93307,     0.93307,     0.93307,\n",
              "            0.93307,     0.93307,     0.93307,     0.92969,     0.92969,     0.92481,     0.92481,     0.92481,     0.92481,     0.92481,     0.92481,     0.92481,     0.92481,     0.92481,     0.92481,     0.92481,     0.92481,     0.92481,     0.92481,     0.92481,     0.92481,     0.92481,     0.92481,\n",
              "            0.92481,     0.92481,     0.92222,     0.92222,     0.92222,     0.92222,     0.92222,     0.92222,     0.92222,     0.91941,     0.91941,     0.91941,     0.91941,     0.91941,     0.91636,     0.91636,     0.91636,     0.91367,     0.91367,     0.91367,     0.91367,     0.90845,     0.90845,\n",
              "            0.90845,     0.90845,     0.90845,     0.90845,     0.90845,     0.90845,     0.90845,     0.90845,     0.90559,     0.90559,     0.90559,         0.9,         0.9,         0.9,         0.9,      0.8942,      0.8942,      0.8942,     0.88926,     0.88926,     0.88926,     0.88926,     0.88926,\n",
              "            0.88926,     0.88926,     0.88667,     0.88667,     0.88667,     0.88449,     0.88449,     0.88449,     0.88449,     0.88449,     0.88197,     0.88197,     0.88026,     0.88026,     0.88026,     0.88026,     0.88026,     0.88026,     0.88026,      0.8754,      0.8754,      0.8754,      0.8754,\n",
              "             0.8754,     0.87382,     0.87382,     0.87382,     0.87382,     0.87382,     0.87382,     0.87382,     0.86378,     0.86378,     0.86378,     0.86378,     0.86378,     0.85366,     0.85366,     0.85366,     0.85285,     0.85285,     0.85285,     0.85285,     0.85285,     0.85285,     0.85285,\n",
              "            0.85285,     0.85285,     0.85075,     0.85075,     0.85075,     0.84866,     0.84866,     0.84706,     0.84706,     0.84706,     0.84706,     0.84706,     0.84503,     0.84503,     0.84503,     0.84348,     0.84348,     0.84348,     0.84348,     0.84348,      0.8415,      0.8415,     0.84046,\n",
              "            0.84046,     0.84046,     0.84046,     0.84046,     0.84046,     0.84046,     0.83616,     0.83616,     0.83616,      0.8352,      0.8352,      0.8352,      0.8352,      0.8352,      0.8352,      0.8352,     0.83333,     0.83333,     0.82692,     0.82692,     0.82692,     0.81622,     0.81622,\n",
              "            0.81283,     0.81283,     0.81283,     0.81283,     0.81283,     0.80688,     0.80688,     0.80688,     0.79534,     0.79534,     0.79534,     0.79534,     0.79534,     0.78173,     0.78173,     0.76296,     0.76296,     0.76225,     0.76225,     0.76225,     0.76225,     0.76225,     0.76156,\n",
              "            0.76156,     0.76156,     0.76156,     0.76156,      0.7512,      0.7512,      0.7512,     0.74468,     0.74468,     0.74353,     0.74353,     0.73782,     0.73782,     0.73782,     0.73782,     0.73782,     0.73672,     0.73672,     0.73672,     0.73059,     0.73059,     0.72297,     0.72297,\n",
              "            0.72297,     0.71397,     0.71397,     0.70217,     0.70217,     0.70217,     0.69957,     0.69957,     0.69957,     0.69957,     0.69957,     0.69957,     0.69957,     0.69723,     0.69723,     0.68476,     0.68476,     0.68476,      0.6728,      0.6728,     0.66802,     0.66802,     0.66802,\n",
              "            0.65483,     0.65483,     0.65483,     0.65483,     0.65166,     0.65166,     0.65166,     0.64355,     0.64355,        0.64,        0.64,        0.64,        0.64,        0.64,     0.63653,     0.63653,     0.63653,     0.63653,     0.63653,     0.62385,     0.62385,     0.62385,     0.62385,\n",
              "            0.62385,     0.62138,     0.62138,     0.62138,     0.62138,     0.62138,     0.62138,     0.62138,     0.61982,     0.61982,     0.61982,     0.61497,     0.61497,     0.61348,     0.61348,     0.61348,     0.59931,     0.59931,     0.58883,     0.58883,     0.58361,     0.58361,     0.58361,\n",
              "            0.55556,     0.55556,     0.54673,     0.54673,     0.54673,      0.5374,      0.5374,     0.52687,     0.52687,     0.52687,     0.52212,     0.52212,      0.5189,      0.5189,      0.5189,      0.5189,      0.5189,      0.5189,      0.5189,     0.51734,     0.51734,     0.51734,     0.51213,\n",
              "            0.51213,     0.50633,     0.50633,     0.50633,     0.49793,     0.49793,     0.49589,     0.49589,     0.49589,     0.47021,     0.47021,     0.46607,     0.46607,     0.45739,     0.45739,     0.45739,     0.44634,     0.44634,     0.43587,     0.43587,     0.43587,     0.41441,     0.41441,\n",
              "            0.40152,     0.40152,     0.40152,     0.39153,     0.39153,     0.38565,     0.38565,      0.3843,      0.3843,      0.3843,     0.38139,     0.38139,       0.374,       0.374,       0.374,     0.36621,     0.36621,      0.3581,      0.3581,      0.3581,     0.34555,     0.34555,      0.3375,\n",
              "             0.3375,      0.3375,     0.32091,     0.32091,     0.31773,     0.31773,     0.30602,     0.30602,     0.30602,     0.29914,     0.29914,     0.29059,     0.29059,     0.29059,     0.24136,     0.24136,     0.22849,     0.22849,     0.22849,     0.18285,     0.18285,     0.17109,     0.17109,\n",
              "            0.14946,     0.14946,     0.14946,     0.13437,     0.13437,     0.13167,     0.13167,     0.13167,     0.10135,     0.10135,    0.099669,    0.099669,    0.099669,    0.089603,    0.089603,     0.08713,     0.08713,     0.08713,    0.072041,    0.072041,     0.07045,     0.07045,    0.068602,\n",
              "           0.068602,    0.068602,    0.064631,    0.064631,    0.060768,    0.060768,    0.060768,    0.044285,    0.042582,    0.040879,    0.039176,    0.037472,    0.035769,    0.034066,    0.032362,    0.030659,    0.028956,    0.027253,    0.025549,    0.023846,    0.022143,    0.020439,    0.018736,\n",
              "           0.017033,     0.01533,    0.013626,    0.011923,     0.01022,   0.0085164,   0.0068131,   0.0051099,   0.0034066,   0.0017033,           0]]), 'Recall', 'Precision'], [array([          0,    0.001001,    0.002002,    0.003003,    0.004004,    0.005005,    0.006006,    0.007007,    0.008008,    0.009009,     0.01001,    0.011011,    0.012012,    0.013013,    0.014014,    0.015015,    0.016016,    0.017017,    0.018018,    0.019019,     0.02002,    0.021021,    0.022022,    0.023023,\n",
              "          0.024024,    0.025025,    0.026026,    0.027027,    0.028028,    0.029029,     0.03003,    0.031031,    0.032032,    0.033033,    0.034034,    0.035035,    0.036036,    0.037037,    0.038038,    0.039039,     0.04004,    0.041041,    0.042042,    0.043043,    0.044044,    0.045045,    0.046046,    0.047047,\n",
              "          0.048048,    0.049049,     0.05005,    0.051051,    0.052052,    0.053053,    0.054054,    0.055055,    0.056056,    0.057057,    0.058058,    0.059059,     0.06006,    0.061061,    0.062062,    0.063063,    0.064064,    0.065065,    0.066066,    0.067067,    0.068068,    0.069069,     0.07007,    0.071071,\n",
              "          0.072072,    0.073073,    0.074074,    0.075075,    0.076076,    0.077077,    0.078078,    0.079079,     0.08008,    0.081081,    0.082082,    0.083083,    0.084084,    0.085085,    0.086086,    0.087087,    0.088088,    0.089089,     0.09009,    0.091091,    0.092092,    0.093093,    0.094094,    0.095095,\n",
              "          0.096096,    0.097097,    0.098098,    0.099099,      0.1001,      0.1011,      0.1021,      0.1031,      0.1041,     0.10511,     0.10611,     0.10711,     0.10811,     0.10911,     0.11011,     0.11111,     0.11211,     0.11311,     0.11411,     0.11512,     0.11612,     0.11712,     0.11812,     0.11912,\n",
              "           0.12012,     0.12112,     0.12212,     0.12312,     0.12412,     0.12513,     0.12613,     0.12713,     0.12813,     0.12913,     0.13013,     0.13113,     0.13213,     0.13313,     0.13413,     0.13514,     0.13614,     0.13714,     0.13814,     0.13914,     0.14014,     0.14114,     0.14214,     0.14314,\n",
              "           0.14414,     0.14515,     0.14615,     0.14715,     0.14815,     0.14915,     0.15015,     0.15115,     0.15215,     0.15315,     0.15415,     0.15516,     0.15616,     0.15716,     0.15816,     0.15916,     0.16016,     0.16116,     0.16216,     0.16316,     0.16416,     0.16517,     0.16617,     0.16717,\n",
              "           0.16817,     0.16917,     0.17017,     0.17117,     0.17217,     0.17317,     0.17417,     0.17518,     0.17618,     0.17718,     0.17818,     0.17918,     0.18018,     0.18118,     0.18218,     0.18318,     0.18418,     0.18519,     0.18619,     0.18719,     0.18819,     0.18919,     0.19019,     0.19119,\n",
              "           0.19219,     0.19319,     0.19419,      0.1952,      0.1962,      0.1972,      0.1982,      0.1992,      0.2002,      0.2012,      0.2022,      0.2032,      0.2042,     0.20521,     0.20621,     0.20721,     0.20821,     0.20921,     0.21021,     0.21121,     0.21221,     0.21321,     0.21421,     0.21522,\n",
              "           0.21622,     0.21722,     0.21822,     0.21922,     0.22022,     0.22122,     0.22222,     0.22322,     0.22422,     0.22523,     0.22623,     0.22723,     0.22823,     0.22923,     0.23023,     0.23123,     0.23223,     0.23323,     0.23423,     0.23524,     0.23624,     0.23724,     0.23824,     0.23924,\n",
              "           0.24024,     0.24124,     0.24224,     0.24324,     0.24424,     0.24525,     0.24625,     0.24725,     0.24825,     0.24925,     0.25025,     0.25125,     0.25225,     0.25325,     0.25425,     0.25526,     0.25626,     0.25726,     0.25826,     0.25926,     0.26026,     0.26126,     0.26226,     0.26326,\n",
              "           0.26426,     0.26527,     0.26627,     0.26727,     0.26827,     0.26927,     0.27027,     0.27127,     0.27227,     0.27327,     0.27427,     0.27528,     0.27628,     0.27728,     0.27828,     0.27928,     0.28028,     0.28128,     0.28228,     0.28328,     0.28428,     0.28529,     0.28629,     0.28729,\n",
              "           0.28829,     0.28929,     0.29029,     0.29129,     0.29229,     0.29329,     0.29429,      0.2953,      0.2963,      0.2973,      0.2983,      0.2993,      0.3003,      0.3013,      0.3023,      0.3033,      0.3043,     0.30531,     0.30631,     0.30731,     0.30831,     0.30931,     0.31031,     0.31131,\n",
              "           0.31231,     0.31331,     0.31431,     0.31532,     0.31632,     0.31732,     0.31832,     0.31932,     0.32032,     0.32132,     0.32232,     0.32332,     0.32432,     0.32533,     0.32633,     0.32733,     0.32833,     0.32933,     0.33033,     0.33133,     0.33233,     0.33333,     0.33433,     0.33534,\n",
              "           0.33634,     0.33734,     0.33834,     0.33934,     0.34034,     0.34134,     0.34234,     0.34334,     0.34434,     0.34535,     0.34635,     0.34735,     0.34835,     0.34935,     0.35035,     0.35135,     0.35235,     0.35335,     0.35435,     0.35536,     0.35636,     0.35736,     0.35836,     0.35936,\n",
              "           0.36036,     0.36136,     0.36236,     0.36336,     0.36436,     0.36537,     0.36637,     0.36737,     0.36837,     0.36937,     0.37037,     0.37137,     0.37237,     0.37337,     0.37437,     0.37538,     0.37638,     0.37738,     0.37838,     0.37938,     0.38038,     0.38138,     0.38238,     0.38338,\n",
              "           0.38438,     0.38539,     0.38639,     0.38739,     0.38839,     0.38939,     0.39039,     0.39139,     0.39239,     0.39339,     0.39439,      0.3954,      0.3964,      0.3974,      0.3984,      0.3994,      0.4004,      0.4014,      0.4024,      0.4034,      0.4044,     0.40541,     0.40641,     0.40741,\n",
              "           0.40841,     0.40941,     0.41041,     0.41141,     0.41241,     0.41341,     0.41441,     0.41542,     0.41642,     0.41742,     0.41842,     0.41942,     0.42042,     0.42142,     0.42242,     0.42342,     0.42442,     0.42543,     0.42643,     0.42743,     0.42843,     0.42943,     0.43043,     0.43143,\n",
              "           0.43243,     0.43343,     0.43443,     0.43544,     0.43644,     0.43744,     0.43844,     0.43944,     0.44044,     0.44144,     0.44244,     0.44344,     0.44444,     0.44545,     0.44645,     0.44745,     0.44845,     0.44945,     0.45045,     0.45145,     0.45245,     0.45345,     0.45445,     0.45546,\n",
              "           0.45646,     0.45746,     0.45846,     0.45946,     0.46046,     0.46146,     0.46246,     0.46346,     0.46446,     0.46547,     0.46647,     0.46747,     0.46847,     0.46947,     0.47047,     0.47147,     0.47247,     0.47347,     0.47447,     0.47548,     0.47648,     0.47748,     0.47848,     0.47948,\n",
              "           0.48048,     0.48148,     0.48248,     0.48348,     0.48448,     0.48549,     0.48649,     0.48749,     0.48849,     0.48949,     0.49049,     0.49149,     0.49249,     0.49349,     0.49449,      0.4955,      0.4965,      0.4975,      0.4985,      0.4995,      0.5005,      0.5015,      0.5025,      0.5035,\n",
              "            0.5045,     0.50551,     0.50651,     0.50751,     0.50851,     0.50951,     0.51051,     0.51151,     0.51251,     0.51351,     0.51451,     0.51552,     0.51652,     0.51752,     0.51852,     0.51952,     0.52052,     0.52152,     0.52252,     0.52352,     0.52452,     0.52553,     0.52653,     0.52753,\n",
              "           0.52853,     0.52953,     0.53053,     0.53153,     0.53253,     0.53353,     0.53453,     0.53554,     0.53654,     0.53754,     0.53854,     0.53954,     0.54054,     0.54154,     0.54254,     0.54354,     0.54454,     0.54555,     0.54655,     0.54755,     0.54855,     0.54955,     0.55055,     0.55155,\n",
              "           0.55255,     0.55355,     0.55455,     0.55556,     0.55656,     0.55756,     0.55856,     0.55956,     0.56056,     0.56156,     0.56256,     0.56356,     0.56456,     0.56557,     0.56657,     0.56757,     0.56857,     0.56957,     0.57057,     0.57157,     0.57257,     0.57357,     0.57457,     0.57558,\n",
              "           0.57658,     0.57758,     0.57858,     0.57958,     0.58058,     0.58158,     0.58258,     0.58358,     0.58458,     0.58559,     0.58659,     0.58759,     0.58859,     0.58959,     0.59059,     0.59159,     0.59259,     0.59359,     0.59459,      0.5956,      0.5966,      0.5976,      0.5986,      0.5996,\n",
              "            0.6006,      0.6016,      0.6026,      0.6036,      0.6046,     0.60561,     0.60661,     0.60761,     0.60861,     0.60961,     0.61061,     0.61161,     0.61261,     0.61361,     0.61461,     0.61562,     0.61662,     0.61762,     0.61862,     0.61962,     0.62062,     0.62162,     0.62262,     0.62362,\n",
              "           0.62462,     0.62563,     0.62663,     0.62763,     0.62863,     0.62963,     0.63063,     0.63163,     0.63263,     0.63363,     0.63463,     0.63564,     0.63664,     0.63764,     0.63864,     0.63964,     0.64064,     0.64164,     0.64264,     0.64364,     0.64464,     0.64565,     0.64665,     0.64765,\n",
              "           0.64865,     0.64965,     0.65065,     0.65165,     0.65265,     0.65365,     0.65465,     0.65566,     0.65666,     0.65766,     0.65866,     0.65966,     0.66066,     0.66166,     0.66266,     0.66366,     0.66466,     0.66567,     0.66667,     0.66767,     0.66867,     0.66967,     0.67067,     0.67167,\n",
              "           0.67267,     0.67367,     0.67467,     0.67568,     0.67668,     0.67768,     0.67868,     0.67968,     0.68068,     0.68168,     0.68268,     0.68368,     0.68468,     0.68569,     0.68669,     0.68769,     0.68869,     0.68969,     0.69069,     0.69169,     0.69269,     0.69369,     0.69469,      0.6957,\n",
              "            0.6967,      0.6977,      0.6987,      0.6997,      0.7007,      0.7017,      0.7027,      0.7037,      0.7047,     0.70571,     0.70671,     0.70771,     0.70871,     0.70971,     0.71071,     0.71171,     0.71271,     0.71371,     0.71471,     0.71572,     0.71672,     0.71772,     0.71872,     0.71972,\n",
              "           0.72072,     0.72172,     0.72272,     0.72372,     0.72472,     0.72573,     0.72673,     0.72773,     0.72873,     0.72973,     0.73073,     0.73173,     0.73273,     0.73373,     0.73473,     0.73574,     0.73674,     0.73774,     0.73874,     0.73974,     0.74074,     0.74174,     0.74274,     0.74374,\n",
              "           0.74474,     0.74575,     0.74675,     0.74775,     0.74875,     0.74975,     0.75075,     0.75175,     0.75275,     0.75375,     0.75475,     0.75576,     0.75676,     0.75776,     0.75876,     0.75976,     0.76076,     0.76176,     0.76276,     0.76376,     0.76476,     0.76577,     0.76677,     0.76777,\n",
              "           0.76877,     0.76977,     0.77077,     0.77177,     0.77277,     0.77377,     0.77477,     0.77578,     0.77678,     0.77778,     0.77878,     0.77978,     0.78078,     0.78178,     0.78278,     0.78378,     0.78478,     0.78579,     0.78679,     0.78779,     0.78879,     0.78979,     0.79079,     0.79179,\n",
              "           0.79279,     0.79379,     0.79479,      0.7958,      0.7968,      0.7978,      0.7988,      0.7998,      0.8008,      0.8018,      0.8028,      0.8038,      0.8048,     0.80581,     0.80681,     0.80781,     0.80881,     0.80981,     0.81081,     0.81181,     0.81281,     0.81381,     0.81481,     0.81582,\n",
              "           0.81682,     0.81782,     0.81882,     0.81982,     0.82082,     0.82182,     0.82282,     0.82382,     0.82482,     0.82583,     0.82683,     0.82783,     0.82883,     0.82983,     0.83083,     0.83183,     0.83283,     0.83383,     0.83483,     0.83584,     0.83684,     0.83784,     0.83884,     0.83984,\n",
              "           0.84084,     0.84184,     0.84284,     0.84384,     0.84484,     0.84585,     0.84685,     0.84785,     0.84885,     0.84985,     0.85085,     0.85185,     0.85285,     0.85385,     0.85485,     0.85586,     0.85686,     0.85786,     0.85886,     0.85986,     0.86086,     0.86186,     0.86286,     0.86386,\n",
              "           0.86486,     0.86587,     0.86687,     0.86787,     0.86887,     0.86987,     0.87087,     0.87187,     0.87287,     0.87387,     0.87487,     0.87588,     0.87688,     0.87788,     0.87888,     0.87988,     0.88088,     0.88188,     0.88288,     0.88388,     0.88488,     0.88589,     0.88689,     0.88789,\n",
              "           0.88889,     0.88989,     0.89089,     0.89189,     0.89289,     0.89389,     0.89489,      0.8959,      0.8969,      0.8979,      0.8989,      0.8999,      0.9009,      0.9019,      0.9029,      0.9039,      0.9049,     0.90591,     0.90691,     0.90791,     0.90891,     0.90991,     0.91091,     0.91191,\n",
              "           0.91291,     0.91391,     0.91491,     0.91592,     0.91692,     0.91792,     0.91892,     0.91992,     0.92092,     0.92192,     0.92292,     0.92392,     0.92492,     0.92593,     0.92693,     0.92793,     0.92893,     0.92993,     0.93093,     0.93193,     0.93293,     0.93393,     0.93493,     0.93594,\n",
              "           0.93694,     0.93794,     0.93894,     0.93994,     0.94094,     0.94194,     0.94294,     0.94394,     0.94494,     0.94595,     0.94695,     0.94795,     0.94895,     0.94995,     0.95095,     0.95195,     0.95295,     0.95395,     0.95495,     0.95596,     0.95696,     0.95796,     0.95896,     0.95996,\n",
              "           0.96096,     0.96196,     0.96296,     0.96396,     0.96496,     0.96597,     0.96697,     0.96797,     0.96897,     0.96997,     0.97097,     0.97197,     0.97297,     0.97397,     0.97497,     0.97598,     0.97698,     0.97798,     0.97898,     0.97998,     0.98098,     0.98198,     0.98298,     0.98398,\n",
              "           0.98498,     0.98599,     0.98699,     0.98799,     0.98899,     0.98999,     0.99099,     0.99199,     0.99299,     0.99399,     0.99499,       0.996,       0.997,       0.998,       0.999,           1]), array([[   0.087213,    0.087213,     0.12767,     0.15604,     0.17916,     0.19828,     0.21359,     0.22766,     0.24108,     0.25299,     0.26453,     0.27462,     0.28404,     0.29152,      0.3004,     0.30874,     0.31673,     0.32415,     0.33174,     0.33953,     0.34514,     0.35085,     0.35595,\n",
              "            0.36217,     0.36689,      0.3727,     0.37781,     0.38291,     0.38732,     0.39292,     0.39787,     0.40176,     0.40633,     0.41185,     0.41586,     0.41908,     0.42354,     0.42861,     0.43207,     0.43392,      0.4378,     0.44248,     0.44556,     0.44892,     0.45207,      0.4547,\n",
              "            0.45715,       0.459,     0.46041,     0.46399,      0.4664,     0.46931,     0.47161,     0.47441,     0.47647,     0.47809,     0.48315,     0.48543,     0.48764,     0.48917,     0.49128,     0.49264,     0.49399,     0.49608,     0.49697,      0.5005,     0.50195,     0.50401,     0.50575,\n",
              "            0.50694,     0.50926,     0.51035,     0.51363,      0.5161,     0.51861,     0.52146,     0.52206,     0.52488,     0.52752,     0.52919,     0.53032,     0.53114,     0.53321,     0.53458,     0.53529,     0.53708,     0.53737,     0.53989,     0.54021,     0.54052,     0.54153,     0.54298,\n",
              "            0.54543,     0.54522,      0.5466,     0.54973,     0.55208,     0.55451,     0.55509,     0.55797,     0.56069,     0.56232,     0.56455,      0.5659,     0.56597,     0.56694,     0.56882,     0.57089,     0.57198,     0.57383,     0.57592,     0.57725,     0.57835,     0.57929,     0.58033,\n",
              "            0.58147,     0.58252,     0.58465,     0.58574,     0.58727,     0.58822,     0.58907,     0.58983,      0.5931,      0.5942,     0.59544,     0.59746,     0.59822,      0.5996,     0.60127,     0.60356,     0.60326,     0.60546,     0.60639,     0.60705,     0.60832,     0.61011,     0.61115,\n",
              "            0.61241,     0.61417,     0.61327,     0.61492,     0.61653,     0.61719,     0.61763,     0.61934,     0.62096,     0.62175,      0.6247,     0.62507,     0.62693,     0.62881,     0.63082,     0.63329,     0.63409,       0.634,     0.63495,     0.63571,      0.6365,     0.63771,     0.63937,\n",
              "            0.64014,      0.6405,     0.64204,     0.64115,     0.64148,     0.64238,     0.64269,     0.64326,     0.64623,     0.64576,     0.64694,     0.64919,     0.64909,     0.64943,     0.64945,     0.64661,     0.64769,     0.64943,     0.64971,     0.65132,     0.65158,     0.65184,      0.6533,\n",
              "            0.65335,     0.65441,     0.65476,     0.65624,     0.65901,     0.66064,     0.66012,       0.663,     0.66363,     0.66403,     0.66467,     0.66556,     0.66669,     0.66723,     0.66624,     0.66721,     0.66858,     0.66883,     0.66908,     0.66994,     0.67099,     0.67289,     0.67196,\n",
              "            0.67362,     0.67512,      0.6777,     0.67798,     0.67827,     0.67981,     0.68061,     0.68185,     0.68387,     0.68467,     0.68558,     0.68596,     0.68629,     0.68927,      0.6903,     0.69209,     0.69204,     0.69237,       0.693,     0.69503,     0.69473,     0.69554,      0.6966,\n",
              "            0.69714,     0.69921,     0.70024,     0.70136,      0.7005,     0.70071,     0.70092,     0.70185,     0.70224,     0.70263,     0.70305,     0.70448,     0.70546,     0.70644,     0.70714,     0.70769,     0.70868,     0.70927,     0.70965,     0.71011,     0.70928,     0.71029,     0.71129,\n",
              "            0.71226,     0.71276,     0.71239,     0.71245,     0.71306,     0.71049,     0.70956,        0.71,     0.71038,     0.71134,     0.71182,     0.71014,      0.7094,     0.70991,     0.71042,     0.71099,     0.71175,     0.71318,     0.71356,     0.71414,     0.71503,     0.71672,     0.71815,\n",
              "            0.71628,     0.71771,     0.71831,      0.7185,     0.71757,     0.71734,     0.71885,     0.71782,     0.71827,      0.7191,     0.72094,     0.72254,       0.723,     0.72255,     0.72255,     0.72362,     0.72402,     0.72204,     0.72227,     0.72478,     0.72571,     0.72784,      0.7281,\n",
              "            0.72835,     0.72955,     0.73005,      0.7289,     0.72965,     0.72984,     0.73004,     0.73023,     0.73104,     0.73167,     0.73304,     0.73337,     0.73371,     0.73431,     0.73552,     0.73645,     0.73701,     0.73661,      0.7368,     0.73699,     0.73718,     0.73744,     0.73793,\n",
              "             0.7395,     0.74089,     0.74118,     0.74146,     0.74226,     0.74333,     0.74368,     0.74402,     0.74284,      0.7406,     0.74028,     0.74067,     0.74112,     0.74162,     0.74212,     0.74209,     0.74303,     0.74644,     0.74689,     0.74713,     0.74809,     0.74867,     0.74922,\n",
              "            0.75007,     0.75058,     0.75139,     0.75092,     0.75182,     0.75383,     0.75429,     0.75332,     0.75444,     0.75535,     0.75559,     0.75357,     0.75403,     0.75593,     0.75635,      0.7558,     0.75565,     0.75584,     0.75521,      0.7569,     0.75737,     0.75802,     0.75802,\n",
              "            0.75699,     0.75747,     0.75799,     0.75846,     0.75885,     0.75905,     0.75925,     0.75944,     0.75964,     0.76148,       0.762,     0.76248,     0.76037,     0.75788,     0.75746,     0.75691,     0.75739,      0.7587,     0.75934,      0.7602,     0.76116,     0.76169,     0.76204,\n",
              "            0.76239,     0.76288,      0.7634,     0.76441,      0.7654,     0.76589,     0.76584,     0.76505,      0.7651,     0.76624,     0.76692,     0.76741,     0.76926,     0.77061,     0.77088,     0.77114,     0.77107,     0.76965,     0.76885,     0.76839,     0.76888,     0.76953,     0.77029,\n",
              "            0.77056,     0.77082,     0.77109,     0.77151,     0.77201,     0.77385,     0.77293,     0.77272,     0.77293,     0.77314,     0.77335,      0.7736,     0.77411,     0.77522,     0.77362,     0.77261,      0.7735,     0.77401,     0.77309,     0.77511,     0.77714,     0.77696,     0.77787,\n",
              "            0.77856,     0.77907,     0.77864,     0.77782,     0.77843,     0.77641,     0.77559,     0.77408,     0.77518,     0.77456,     0.77374,     0.77213,     0.77145,     0.76985,     0.77037,     0.77076,     0.76768,     0.76837,     0.76737,     0.76732,     0.76564,      0.7656,     0.76532,\n",
              "            0.76504,     0.76475,     0.76447,     0.76419,     0.76423,      0.7645,     0.76476,     0.76502,     0.76392,     0.76386,       0.763,     0.76149,     0.75977,     0.75899,     0.75842,     0.75784,     0.75759,     0.75812,     0.75914,     0.75969,     0.76023,      0.7595,     0.75893,\n",
              "            0.75928,     0.75964,     0.76009,     0.76107,     0.76161,     0.76186,     0.76098,     0.76011,     0.75923,     0.75699,     0.75726,     0.75752,     0.75779,     0.75552,     0.75497,     0.75621,     0.75532,     0.75225,     0.75168,     0.75222,     0.75082,     0.75104,     0.75126,\n",
              "            0.75147,     0.75169,      0.7505,      0.7487,     0.74905,     0.74791,     0.74787,     0.74696,     0.74351,      0.7442,     0.74562,     0.74223,     0.73995,     0.73676,     0.73652,     0.73558,     0.73473,     0.73528,     0.73398,     0.73453,     0.73484,     0.73389,     0.73274,\n",
              "            0.73153,     0.72999,     0.72763,     0.72699,     0.72634,     0.72579,      0.7254,     0.72501,     0.72463,     0.72424,     0.72311,     0.71926,      0.7173,     0.71588,     0.71489,     0.71332,     0.71275,     0.71302,     0.71329,     0.71357,     0.71444,     0.71299,     0.71326,\n",
              "            0.71354,     0.71381,      0.7133,     0.71263,     0.71197,     0.70924,     0.70844,     0.70706,     0.70505,     0.70464,     0.70363,     0.70203,         0.7,     0.69797,     0.69392,     0.69279,     0.69211,     0.69142,     0.68971,     0.68843,      0.6874,     0.68551,     0.68343,\n",
              "            0.68225,      0.6812,     0.67843,     0.67773,     0.67703,      0.6708,     0.66963,     0.66653,       0.665,     0.66393,     0.66218,      0.6579,     0.65359,      0.6514,     0.64921,       0.647,     0.64479,     0.64084,     0.63481,     0.63256,     0.63029,     0.62468,     0.62064,\n",
              "            0.61949,     0.61779,     0.61321,     0.61088,     0.60855,      0.6062,     0.60385,     0.60322,     0.60204,     0.58483,     0.58266,     0.58144,     0.57752,     0.57266,     0.56873,     0.56665,      0.5654,     0.56367,      0.5615,     0.55982,     0.55735,     0.55482,      0.5523,\n",
              "            0.55145,      0.5506,     0.54974,     0.54872,     0.54769,     0.54294,     0.54245,     0.53985,     0.53819,     0.53688,     0.53457,     0.53264,     0.53059,     0.52888,     0.52623,     0.52393,     0.52215,     0.51427,     0.50892,      0.5071,     0.50168,     0.49892,     0.49624,\n",
              "            0.49439,     0.48923,     0.48092,     0.47531,     0.47388,     0.47307,     0.47225,     0.47085,     0.46798,     0.45847,     0.45223,     0.44352,     0.43763,     0.43463,     0.42195,     0.42042,     0.41889,     0.41735,     0.41553,     0.41352,     0.41198,     0.41076,     0.40738,\n",
              "            0.40324,      0.4012,     0.39963,     0.39588,     0.39482,     0.39377,     0.38783,     0.38437,     0.38367,     0.38275,     0.38182,     0.37587,     0.37617,     0.37642,     0.37321,     0.37157,     0.36627,     0.35614,     0.35446,     0.35242,     0.35065,     0.35094,     0.35123,\n",
              "            0.34877,     0.34538,     0.34197,     0.33814,     0.33642,     0.33271,     0.32364,     0.32189,     0.31791,      0.3169,      0.3159,     0.31142,        0.31,     0.30857,     0.30658,     0.30403,     0.30086,     0.29984,     0.29881,     0.29778,     0.29662,     0.29542,     0.29421,\n",
              "            0.28926,      0.2878,      0.2855,      0.2835,      0.2839,     0.28045,     0.27602,     0.27453,     0.27313,      0.2736,     0.27236,     0.27111,     0.26969,      0.2672,     0.26537,     0.26386,     0.25509,     0.25414,     0.25319,     0.25223,     0.24904,     0.24656,     0.24502,\n",
              "            0.24376,      0.2429,     0.24205,     0.24119,     0.23654,     0.23543,     0.23431,      0.2332,     0.22736,     0.22474,     0.22211,     0.21992,     0.21794,     0.21303,     0.21236,     0.21169,     0.21103,     0.21036,     0.20969,     0.20611,     0.20207,     0.20026,     0.19864,\n",
              "            0.19756,     0.19705,     0.19654,     0.19603,     0.19552,     0.19502,     0.19451,       0.194,     0.19314,     0.19212,      0.1911,     0.19008,     0.18914,     0.18823,     0.18732,      0.1864,     0.18478,     0.18203,       0.178,     0.17647,     0.17508,     0.17367,     0.17088,\n",
              "            0.16731,     0.16473,     0.16333,     0.16192,     0.16088,     0.16004,     0.15919,     0.15834,     0.15749,      0.1567,     0.15593,     0.15516,     0.15439,     0.15361,     0.15245,     0.15075,     0.14903,     0.14621,     0.14417,     0.14294,     0.14171,     0.14032,     0.13744,\n",
              "            0.13621,     0.13597,     0.13573,     0.13549,     0.13525,       0.135,     0.13476,     0.13452,     0.13428,     0.13404,      0.1338,     0.13355,     0.13331,     0.13307,     0.13283,     0.13259,     0.13234,     0.13208,     0.13154,     0.13099,     0.13044,      0.1299,     0.12935,\n",
              "             0.1288,     0.12826,     0.12773,     0.12724,     0.12675,     0.12626,     0.12578,     0.12529,      0.1248,     0.12431,     0.12382,     0.11884,     0.11795,     0.11707,     0.11618,     0.11529,      0.1144,     0.11351,     0.11262,     0.11173,     0.11084,     0.10406,     0.10145,\n",
              "           0.099951,    0.098446,    0.094385,    0.086922,    0.083225,    0.080925,    0.079051,    0.077733,    0.076412,     0.07511,    0.074767,    0.074424,     0.07408,    0.073737,    0.073393,    0.073049,    0.072706,    0.072362,    0.072017,    0.071673,    0.071329,    0.070984,     0.07064,\n",
              "           0.068607,    0.066273,    0.064836,    0.063497,    0.062157,    0.060326,    0.057972,    0.056032,    0.054456,    0.052878,    0.051873,     0.05124,    0.050607,    0.049973,    0.049339,    0.048705,     0.04807,    0.046236,    0.042658,      0.0417,    0.040741,    0.039781,    0.038819,\n",
              "           0.037896,     0.03702,    0.036144,    0.035267,    0.034389,    0.033546,    0.033159,    0.032772,    0.032385,    0.031998,     0.03161,    0.031223,    0.030835,    0.030447,    0.030059,    0.029671,    0.029283,    0.028894,    0.027143,    0.025195,    0.022674,     0.01941,    0.018129,\n",
              "           0.016901,    0.015671,    0.014511,    0.014276,    0.014042,    0.013807,    0.013572,    0.013337,    0.013102,    0.012867,    0.012632,    0.012397,    0.012162,    0.011927,    0.011691,    0.011456,     0.01122,    0.010985,    0.010749,    0.010514,    0.010278,    0.010043,   0.0098068,\n",
              "          0.0090659,   0.0079642,   0.0068613,   0.0057572,           0,           0,           0,           0,           0,           0,           0,           0,           0,           0,           0,           0,           0,           0,           0,           0,           0,           0,           0,\n",
              "                  0,           0,           0,           0,           0,           0,           0,           0,           0,           0,           0,           0,           0,           0,           0,           0,           0,           0,           0,           0,           0,           0,           0,\n",
              "                  0,           0,           0,           0,           0,           0,           0,           0,           0,           0,           0]]), 'Confidence', 'F1'], [array([          0,    0.001001,    0.002002,    0.003003,    0.004004,    0.005005,    0.006006,    0.007007,    0.008008,    0.009009,     0.01001,    0.011011,    0.012012,    0.013013,    0.014014,    0.015015,    0.016016,    0.017017,    0.018018,    0.019019,     0.02002,    0.021021,    0.022022,    0.023023,\n",
              "          0.024024,    0.025025,    0.026026,    0.027027,    0.028028,    0.029029,     0.03003,    0.031031,    0.032032,    0.033033,    0.034034,    0.035035,    0.036036,    0.037037,    0.038038,    0.039039,     0.04004,    0.041041,    0.042042,    0.043043,    0.044044,    0.045045,    0.046046,    0.047047,\n",
              "          0.048048,    0.049049,     0.05005,    0.051051,    0.052052,    0.053053,    0.054054,    0.055055,    0.056056,    0.057057,    0.058058,    0.059059,     0.06006,    0.061061,    0.062062,    0.063063,    0.064064,    0.065065,    0.066066,    0.067067,    0.068068,    0.069069,     0.07007,    0.071071,\n",
              "          0.072072,    0.073073,    0.074074,    0.075075,    0.076076,    0.077077,    0.078078,    0.079079,     0.08008,    0.081081,    0.082082,    0.083083,    0.084084,    0.085085,    0.086086,    0.087087,    0.088088,    0.089089,     0.09009,    0.091091,    0.092092,    0.093093,    0.094094,    0.095095,\n",
              "          0.096096,    0.097097,    0.098098,    0.099099,      0.1001,      0.1011,      0.1021,      0.1031,      0.1041,     0.10511,     0.10611,     0.10711,     0.10811,     0.10911,     0.11011,     0.11111,     0.11211,     0.11311,     0.11411,     0.11512,     0.11612,     0.11712,     0.11812,     0.11912,\n",
              "           0.12012,     0.12112,     0.12212,     0.12312,     0.12412,     0.12513,     0.12613,     0.12713,     0.12813,     0.12913,     0.13013,     0.13113,     0.13213,     0.13313,     0.13413,     0.13514,     0.13614,     0.13714,     0.13814,     0.13914,     0.14014,     0.14114,     0.14214,     0.14314,\n",
              "           0.14414,     0.14515,     0.14615,     0.14715,     0.14815,     0.14915,     0.15015,     0.15115,     0.15215,     0.15315,     0.15415,     0.15516,     0.15616,     0.15716,     0.15816,     0.15916,     0.16016,     0.16116,     0.16216,     0.16316,     0.16416,     0.16517,     0.16617,     0.16717,\n",
              "           0.16817,     0.16917,     0.17017,     0.17117,     0.17217,     0.17317,     0.17417,     0.17518,     0.17618,     0.17718,     0.17818,     0.17918,     0.18018,     0.18118,     0.18218,     0.18318,     0.18418,     0.18519,     0.18619,     0.18719,     0.18819,     0.18919,     0.19019,     0.19119,\n",
              "           0.19219,     0.19319,     0.19419,      0.1952,      0.1962,      0.1972,      0.1982,      0.1992,      0.2002,      0.2012,      0.2022,      0.2032,      0.2042,     0.20521,     0.20621,     0.20721,     0.20821,     0.20921,     0.21021,     0.21121,     0.21221,     0.21321,     0.21421,     0.21522,\n",
              "           0.21622,     0.21722,     0.21822,     0.21922,     0.22022,     0.22122,     0.22222,     0.22322,     0.22422,     0.22523,     0.22623,     0.22723,     0.22823,     0.22923,     0.23023,     0.23123,     0.23223,     0.23323,     0.23423,     0.23524,     0.23624,     0.23724,     0.23824,     0.23924,\n",
              "           0.24024,     0.24124,     0.24224,     0.24324,     0.24424,     0.24525,     0.24625,     0.24725,     0.24825,     0.24925,     0.25025,     0.25125,     0.25225,     0.25325,     0.25425,     0.25526,     0.25626,     0.25726,     0.25826,     0.25926,     0.26026,     0.26126,     0.26226,     0.26326,\n",
              "           0.26426,     0.26527,     0.26627,     0.26727,     0.26827,     0.26927,     0.27027,     0.27127,     0.27227,     0.27327,     0.27427,     0.27528,     0.27628,     0.27728,     0.27828,     0.27928,     0.28028,     0.28128,     0.28228,     0.28328,     0.28428,     0.28529,     0.28629,     0.28729,\n",
              "           0.28829,     0.28929,     0.29029,     0.29129,     0.29229,     0.29329,     0.29429,      0.2953,      0.2963,      0.2973,      0.2983,      0.2993,      0.3003,      0.3013,      0.3023,      0.3033,      0.3043,     0.30531,     0.30631,     0.30731,     0.30831,     0.30931,     0.31031,     0.31131,\n",
              "           0.31231,     0.31331,     0.31431,     0.31532,     0.31632,     0.31732,     0.31832,     0.31932,     0.32032,     0.32132,     0.32232,     0.32332,     0.32432,     0.32533,     0.32633,     0.32733,     0.32833,     0.32933,     0.33033,     0.33133,     0.33233,     0.33333,     0.33433,     0.33534,\n",
              "           0.33634,     0.33734,     0.33834,     0.33934,     0.34034,     0.34134,     0.34234,     0.34334,     0.34434,     0.34535,     0.34635,     0.34735,     0.34835,     0.34935,     0.35035,     0.35135,     0.35235,     0.35335,     0.35435,     0.35536,     0.35636,     0.35736,     0.35836,     0.35936,\n",
              "           0.36036,     0.36136,     0.36236,     0.36336,     0.36436,     0.36537,     0.36637,     0.36737,     0.36837,     0.36937,     0.37037,     0.37137,     0.37237,     0.37337,     0.37437,     0.37538,     0.37638,     0.37738,     0.37838,     0.37938,     0.38038,     0.38138,     0.38238,     0.38338,\n",
              "           0.38438,     0.38539,     0.38639,     0.38739,     0.38839,     0.38939,     0.39039,     0.39139,     0.39239,     0.39339,     0.39439,      0.3954,      0.3964,      0.3974,      0.3984,      0.3994,      0.4004,      0.4014,      0.4024,      0.4034,      0.4044,     0.40541,     0.40641,     0.40741,\n",
              "           0.40841,     0.40941,     0.41041,     0.41141,     0.41241,     0.41341,     0.41441,     0.41542,     0.41642,     0.41742,     0.41842,     0.41942,     0.42042,     0.42142,     0.42242,     0.42342,     0.42442,     0.42543,     0.42643,     0.42743,     0.42843,     0.42943,     0.43043,     0.43143,\n",
              "           0.43243,     0.43343,     0.43443,     0.43544,     0.43644,     0.43744,     0.43844,     0.43944,     0.44044,     0.44144,     0.44244,     0.44344,     0.44444,     0.44545,     0.44645,     0.44745,     0.44845,     0.44945,     0.45045,     0.45145,     0.45245,     0.45345,     0.45445,     0.45546,\n",
              "           0.45646,     0.45746,     0.45846,     0.45946,     0.46046,     0.46146,     0.46246,     0.46346,     0.46446,     0.46547,     0.46647,     0.46747,     0.46847,     0.46947,     0.47047,     0.47147,     0.47247,     0.47347,     0.47447,     0.47548,     0.47648,     0.47748,     0.47848,     0.47948,\n",
              "           0.48048,     0.48148,     0.48248,     0.48348,     0.48448,     0.48549,     0.48649,     0.48749,     0.48849,     0.48949,     0.49049,     0.49149,     0.49249,     0.49349,     0.49449,      0.4955,      0.4965,      0.4975,      0.4985,      0.4995,      0.5005,      0.5015,      0.5025,      0.5035,\n",
              "            0.5045,     0.50551,     0.50651,     0.50751,     0.50851,     0.50951,     0.51051,     0.51151,     0.51251,     0.51351,     0.51451,     0.51552,     0.51652,     0.51752,     0.51852,     0.51952,     0.52052,     0.52152,     0.52252,     0.52352,     0.52452,     0.52553,     0.52653,     0.52753,\n",
              "           0.52853,     0.52953,     0.53053,     0.53153,     0.53253,     0.53353,     0.53453,     0.53554,     0.53654,     0.53754,     0.53854,     0.53954,     0.54054,     0.54154,     0.54254,     0.54354,     0.54454,     0.54555,     0.54655,     0.54755,     0.54855,     0.54955,     0.55055,     0.55155,\n",
              "           0.55255,     0.55355,     0.55455,     0.55556,     0.55656,     0.55756,     0.55856,     0.55956,     0.56056,     0.56156,     0.56256,     0.56356,     0.56456,     0.56557,     0.56657,     0.56757,     0.56857,     0.56957,     0.57057,     0.57157,     0.57257,     0.57357,     0.57457,     0.57558,\n",
              "           0.57658,     0.57758,     0.57858,     0.57958,     0.58058,     0.58158,     0.58258,     0.58358,     0.58458,     0.58559,     0.58659,     0.58759,     0.58859,     0.58959,     0.59059,     0.59159,     0.59259,     0.59359,     0.59459,      0.5956,      0.5966,      0.5976,      0.5986,      0.5996,\n",
              "            0.6006,      0.6016,      0.6026,      0.6036,      0.6046,     0.60561,     0.60661,     0.60761,     0.60861,     0.60961,     0.61061,     0.61161,     0.61261,     0.61361,     0.61461,     0.61562,     0.61662,     0.61762,     0.61862,     0.61962,     0.62062,     0.62162,     0.62262,     0.62362,\n",
              "           0.62462,     0.62563,     0.62663,     0.62763,     0.62863,     0.62963,     0.63063,     0.63163,     0.63263,     0.63363,     0.63463,     0.63564,     0.63664,     0.63764,     0.63864,     0.63964,     0.64064,     0.64164,     0.64264,     0.64364,     0.64464,     0.64565,     0.64665,     0.64765,\n",
              "           0.64865,     0.64965,     0.65065,     0.65165,     0.65265,     0.65365,     0.65465,     0.65566,     0.65666,     0.65766,     0.65866,     0.65966,     0.66066,     0.66166,     0.66266,     0.66366,     0.66466,     0.66567,     0.66667,     0.66767,     0.66867,     0.66967,     0.67067,     0.67167,\n",
              "           0.67267,     0.67367,     0.67467,     0.67568,     0.67668,     0.67768,     0.67868,     0.67968,     0.68068,     0.68168,     0.68268,     0.68368,     0.68468,     0.68569,     0.68669,     0.68769,     0.68869,     0.68969,     0.69069,     0.69169,     0.69269,     0.69369,     0.69469,      0.6957,\n",
              "            0.6967,      0.6977,      0.6987,      0.6997,      0.7007,      0.7017,      0.7027,      0.7037,      0.7047,     0.70571,     0.70671,     0.70771,     0.70871,     0.70971,     0.71071,     0.71171,     0.71271,     0.71371,     0.71471,     0.71572,     0.71672,     0.71772,     0.71872,     0.71972,\n",
              "           0.72072,     0.72172,     0.72272,     0.72372,     0.72472,     0.72573,     0.72673,     0.72773,     0.72873,     0.72973,     0.73073,     0.73173,     0.73273,     0.73373,     0.73473,     0.73574,     0.73674,     0.73774,     0.73874,     0.73974,     0.74074,     0.74174,     0.74274,     0.74374,\n",
              "           0.74474,     0.74575,     0.74675,     0.74775,     0.74875,     0.74975,     0.75075,     0.75175,     0.75275,     0.75375,     0.75475,     0.75576,     0.75676,     0.75776,     0.75876,     0.75976,     0.76076,     0.76176,     0.76276,     0.76376,     0.76476,     0.76577,     0.76677,     0.76777,\n",
              "           0.76877,     0.76977,     0.77077,     0.77177,     0.77277,     0.77377,     0.77477,     0.77578,     0.77678,     0.77778,     0.77878,     0.77978,     0.78078,     0.78178,     0.78278,     0.78378,     0.78478,     0.78579,     0.78679,     0.78779,     0.78879,     0.78979,     0.79079,     0.79179,\n",
              "           0.79279,     0.79379,     0.79479,      0.7958,      0.7968,      0.7978,      0.7988,      0.7998,      0.8008,      0.8018,      0.8028,      0.8038,      0.8048,     0.80581,     0.80681,     0.80781,     0.80881,     0.80981,     0.81081,     0.81181,     0.81281,     0.81381,     0.81481,     0.81582,\n",
              "           0.81682,     0.81782,     0.81882,     0.81982,     0.82082,     0.82182,     0.82282,     0.82382,     0.82482,     0.82583,     0.82683,     0.82783,     0.82883,     0.82983,     0.83083,     0.83183,     0.83283,     0.83383,     0.83483,     0.83584,     0.83684,     0.83784,     0.83884,     0.83984,\n",
              "           0.84084,     0.84184,     0.84284,     0.84384,     0.84484,     0.84585,     0.84685,     0.84785,     0.84885,     0.84985,     0.85085,     0.85185,     0.85285,     0.85385,     0.85485,     0.85586,     0.85686,     0.85786,     0.85886,     0.85986,     0.86086,     0.86186,     0.86286,     0.86386,\n",
              "           0.86486,     0.86587,     0.86687,     0.86787,     0.86887,     0.86987,     0.87087,     0.87187,     0.87287,     0.87387,     0.87487,     0.87588,     0.87688,     0.87788,     0.87888,     0.87988,     0.88088,     0.88188,     0.88288,     0.88388,     0.88488,     0.88589,     0.88689,     0.88789,\n",
              "           0.88889,     0.88989,     0.89089,     0.89189,     0.89289,     0.89389,     0.89489,      0.8959,      0.8969,      0.8979,      0.8989,      0.8999,      0.9009,      0.9019,      0.9029,      0.9039,      0.9049,     0.90591,     0.90691,     0.90791,     0.90891,     0.90991,     0.91091,     0.91191,\n",
              "           0.91291,     0.91391,     0.91491,     0.91592,     0.91692,     0.91792,     0.91892,     0.91992,     0.92092,     0.92192,     0.92292,     0.92392,     0.92492,     0.92593,     0.92693,     0.92793,     0.92893,     0.92993,     0.93093,     0.93193,     0.93293,     0.93393,     0.93493,     0.93594,\n",
              "           0.93694,     0.93794,     0.93894,     0.93994,     0.94094,     0.94194,     0.94294,     0.94394,     0.94494,     0.94595,     0.94695,     0.94795,     0.94895,     0.94995,     0.95095,     0.95195,     0.95295,     0.95395,     0.95495,     0.95596,     0.95696,     0.95796,     0.95896,     0.95996,\n",
              "           0.96096,     0.96196,     0.96296,     0.96396,     0.96496,     0.96597,     0.96697,     0.96797,     0.96897,     0.96997,     0.97097,     0.97197,     0.97297,     0.97397,     0.97497,     0.97598,     0.97698,     0.97798,     0.97898,     0.97998,     0.98098,     0.98198,     0.98298,     0.98398,\n",
              "           0.98498,     0.98599,     0.98699,     0.98799,     0.98899,     0.98999,     0.99099,     0.99199,     0.99299,     0.99399,     0.99499,       0.996,       0.997,       0.998,       0.999,           1]), array([[   0.045652,    0.045652,    0.068341,    0.084912,    0.098838,     0.11068,      0.1203,      0.1293,     0.13814,     0.14601,     0.15382,     0.16068,     0.16718,     0.17246,     0.17871,     0.18474,     0.19049,     0.19588,     0.20146,     0.20723,     0.21142,     0.21572,     0.21959,\n",
              "            0.22435,     0.22813,     0.23263,     0.23663,     0.24065,      0.2443,     0.24878,     0.25277,     0.25591,     0.25963,     0.26416,     0.26747,     0.27014,     0.27385,      0.2781,     0.28103,     0.28259,     0.28589,     0.29013,     0.29279,      0.2957,     0.29869,     0.30099,\n",
              "            0.30314,     0.30477,     0.30628,     0.30945,      0.3116,     0.31421,     0.31627,     0.31909,     0.32124,     0.32272,     0.32735,     0.32944,     0.33148,      0.3329,     0.33486,     0.33612,     0.33771,     0.33966,      0.3405,     0.34383,     0.34554,     0.34749,     0.34915,\n",
              "            0.35028,      0.3525,     0.35355,     0.35671,     0.35947,      0.3619,     0.36469,     0.36566,     0.36844,     0.37105,     0.37271,     0.37424,     0.37506,     0.37712,      0.3785,     0.37921,       0.381,     0.38173,     0.38428,     0.38504,      0.3858,     0.38683,     0.38831,\n",
              "            0.39082,     0.39106,     0.39248,     0.39572,     0.39816,      0.4007,     0.40178,     0.40481,     0.40768,     0.40941,     0.41178,     0.41321,     0.41378,     0.41485,     0.41686,     0.41908,     0.42027,     0.42227,     0.42453,     0.42597,     0.42718,     0.42821,     0.42934,\n",
              "            0.43059,     0.43174,     0.43409,     0.43529,     0.43756,     0.43862,     0.43957,     0.44041,     0.44407,      0.4458,     0.44731,     0.44959,     0.45046,     0.45202,     0.45393,     0.45654,     0.45678,     0.45937,     0.46044,     0.46121,     0.46267,     0.46542,     0.46662,\n",
              "             0.4681,     0.47015,     0.46966,     0.47173,     0.47362,      0.4744,     0.47493,     0.47695,     0.47887,     0.47982,     0.48334,     0.48379,     0.48602,     0.48828,     0.49071,     0.49371,     0.49468,     0.49534,     0.49728,      0.4982,     0.49918,     0.50067,     0.50272,\n",
              "            0.50367,     0.50412,     0.50619,     0.50573,     0.50614,     0.50726,     0.50766,     0.50836,     0.51209,     0.51233,     0.51381,     0.51666,     0.51698,     0.51782,     0.51843,     0.51683,     0.51822,     0.52044,      0.5217,     0.52378,     0.52412,     0.52445,     0.52634,\n",
              "            0.52733,      0.5287,     0.52917,      0.5311,     0.53473,     0.53689,     0.53716,     0.54098,     0.54182,     0.54235,      0.5432,      0.5444,      0.5459,     0.54669,     0.54629,     0.54761,     0.54945,     0.54979,     0.55013,     0.55129,     0.55272,      0.5553,     0.55494,\n",
              "            0.55734,     0.55939,     0.56294,     0.56334,     0.56373,     0.56586,     0.56698,     0.56869,     0.57151,     0.57263,     0.57391,     0.57444,     0.57489,      0.5791,     0.58055,     0.58341,     0.58416,     0.58463,     0.58554,     0.58869,     0.58919,     0.59035,     0.59188,\n",
              "            0.59266,     0.59566,     0.59715,     0.59912,     0.59876,     0.59906,     0.59937,     0.60073,      0.6013,     0.60188,     0.60249,     0.60459,     0.60603,     0.60749,     0.60852,     0.60934,     0.61081,     0.61285,     0.61355,     0.61472,     0.61429,      0.6158,     0.61731,\n",
              "            0.61877,     0.61953,     0.61953,     0.62039,     0.62132,     0.62004,     0.62005,     0.62073,     0.62131,     0.62278,     0.62374,     0.62288,     0.62257,     0.62335,     0.62414,     0.62501,      0.6262,      0.6284,       0.629,      0.6299,     0.63128,     0.63392,     0.63641,\n",
              "            0.63614,      0.6384,     0.63936,     0.63989,     0.63942,     0.64081,     0.64323,     0.64309,     0.64382,     0.64515,     0.64812,      0.6507,     0.65145,     0.65138,      0.6523,     0.65405,     0.65471,     0.65382,     0.65504,     0.65919,     0.66072,     0.66426,     0.66469,\n",
              "            0.66511,     0.66712,       0.668,     0.66745,     0.66897,     0.66929,     0.66962,     0.66995,     0.67131,     0.67409,     0.67642,     0.67699,     0.67756,     0.67859,     0.68065,     0.68225,     0.68322,     0.68431,     0.68464,     0.68496,     0.68529,     0.68575,     0.68659,\n",
              "            0.68932,     0.69174,     0.69224,     0.69274,     0.69413,       0.696,     0.69661,     0.69722,     0.69892,     0.69791,     0.69817,     0.69885,     0.69966,     0.70055,     0.70144,     0.70334,     0.70502,      0.7112,       0.712,     0.71446,     0.71621,     0.71728,      0.7183,\n",
              "            0.71985,      0.7208,     0.72229,     0.72351,     0.72519,     0.72894,     0.72979,     0.73011,     0.73221,     0.73394,     0.73657,     0.73716,     0.73805,     0.74169,     0.74331,     0.74309,     0.74342,     0.74449,     0.74486,     0.74816,     0.74908,     0.75035,     0.75102,\n",
              "            0.75062,     0.75161,     0.75264,     0.75357,     0.75434,     0.75473,     0.75512,     0.75551,     0.75591,     0.75955,      0.7606,     0.76154,     0.76225,     0.76215,     0.76265,     0.76269,     0.76366,     0.76634,     0.76765,     0.76939,     0.77137,     0.77245,     0.77317,\n",
              "             0.7739,      0.7749,     0.77598,     0.77807,     0.78013,     0.78114,     0.78161,     0.78132,     0.78214,     0.78453,     0.78596,     0.78699,      0.7909,     0.79375,     0.79431,     0.79488,     0.79524,     0.79475,     0.79448,     0.79454,      0.7956,     0.79699,     0.79862,\n",
              "            0.79919,     0.79976,     0.80034,     0.80125,     0.80233,     0.80632,     0.80649,     0.80672,     0.80718,     0.80765,     0.80811,     0.80866,     0.80976,     0.81274,     0.81223,     0.81234,      0.8143,     0.81543,     0.81641,     0.82092,     0.82548,     0.82668,     0.83025,\n",
              "            0.83182,       0.833,     0.83316,     0.83292,      0.8347,     0.83455,     0.83431,     0.83387,     0.84018,     0.84025,     0.84001,     0.83956,     0.84147,     0.84105,      0.8423,     0.84345,     0.84278,     0.84496,     0.84553,     0.84687,     0.84641,     0.84863,     0.84855,\n",
              "            0.84848,      0.8484,     0.84832,     0.84825,      0.8486,     0.84925,      0.8499,     0.85055,     0.85043,     0.85269,     0.85246,     0.85206,      0.8516,     0.85139,     0.85124,     0.85108,      0.8544,     0.85575,     0.85836,     0.85977,     0.86114,     0.86334,     0.86568,\n",
              "            0.86661,     0.86754,     0.86871,     0.87129,      0.8727,     0.87377,     0.87357,     0.87337,     0.87316,     0.87283,     0.87354,     0.87426,     0.87497,     0.87483,     0.87583,     0.88017,     0.87997,     0.87928,     0.87986,     0.88134,     0.88192,     0.88252,     0.88311,\n",
              "            0.88371,     0.88431,     0.88422,     0.88382,     0.88597,     0.88637,     0.88911,     0.88892,     0.88819,     0.89082,     0.89973,     0.89933,     0.90781,     0.90875,     0.91336,     0.91319,     0.91315,     0.91485,     0.91625,     0.91797,     0.91939,     0.91924,     0.91905,\n",
              "            0.91963,     0.92186,     0.92478,     0.92469,     0.92459,     0.92451,     0.92445,     0.92439,     0.92433,     0.92427,      0.9241,     0.92351,     0.92321,     0.92299,     0.92284,      0.9226,     0.92305,     0.92397,     0.92489,     0.92581,     0.92874,     0.93011,     0.93105,\n",
              "            0.93199,     0.93292,     0.93299,      0.9329,     0.93281,     0.93244,     0.93233,     0.93214,     0.93186,     0.93541,     0.93528,     0.93507,      0.9348,     0.93452,     0.93398,     0.93382,     0.93373,     0.93363,      0.9334,     0.93322,     0.93308,     0.93282,     0.93253,\n",
              "            0.93236,     0.93222,     0.93182,     0.93172,     0.93162,     0.93073,     0.93448,     0.93405,     0.93383,     0.93368,     0.93344,     0.93284,     0.93222,     0.93191,     0.93159,     0.93127,     0.93094,     0.93377,      0.9337,     0.93338,     0.93305,     0.93223,     0.93163,\n",
              "            0.93146,     0.93121,     0.93052,     0.93016,      0.9298,     0.92944,     0.92907,     0.93356,     0.93339,     0.93078,     0.93044,     0.93025,     0.92963,     0.92885,     0.93322,      0.9329,      0.9327,     0.93244,      0.9321,     0.93183,     0.93144,     0.93104,     0.93063,\n",
              "             0.9305,     0.93036,     0.93022,     0.93005,     0.92988,     0.93268,     0.93987,      0.9395,     0.93926,     0.93907,     0.93873,     0.93844,     0.93814,     0.94362,     0.94326,     0.94294,     0.94269,     0.94157,     0.94079,     0.94666,     0.94593,     0.94555,     0.94518,\n",
              "            0.94492,      0.9442,     0.94299,     0.94216,     0.94194,     0.94182,     0.94169,     0.94148,     0.94104,     0.93954,     0.93852,     0.93706,     0.93604,     0.93551,      0.9332,     0.93292,     0.93263,     0.93233,     0.93198,      0.9316,     0.93129,     0.93218,     0.93842,\n",
              "            0.93767,      0.9373,     0.93701,     0.93631,     0.93611,     0.93591,     0.93477,     0.94167,     0.94272,     0.94256,      0.9424,     0.95227,     0.95617,     0.95999,     0.95959,     0.95938,     0.95868,     0.95731,     0.95707,     0.95678,     0.95733,     0.96164,     0.96595,\n",
              "            0.96675,     0.96637,     0.96598,      0.9767,     0.97656,     0.97625,     0.97547,     0.97532,     0.97496,     0.97487,     0.97477,     0.97435,     0.97422,     0.97408,     0.97389,     0.97363,     0.97332,     0.97321,      0.9731,       0.973,     0.97288,     0.97275,     0.97263,\n",
              "            0.97209,     0.97193,     0.97167,     0.97535,     0.98497,      0.9853,     0.98503,     0.98494,      0.9855,           1,           1,           1,           1,           1,           1,           1,           1,           1,           1,           1,           1,           1,           1,\n",
              "                  1,           1,           1,           1,           1,           1,           1,           1,           1,           1,           1,           1,           1,           1,           1,           1,           1,           1,           1,           1,           1,           1,           1,\n",
              "                  1,           1,           1,           1,           1,           1,           1,           1,           1,           1,           1,           1,           1,           1,           1,           1,           1,           1,           1,           1,           1,           1,           1,\n",
              "                  1,           1,           1,           1,           1,           1,           1,           1,           1,           1,           1,           1,           1,           1,           1,           1,           1,           1,           1,           1,           1,           1,           1,\n",
              "                  1,           1,           1,           1,           1,           1,           1,           1,           1,           1,           1,           1,           1,           1,           1,           1,           1,           1,           1,           1,           1,           1,           1,\n",
              "                  1,           1,           1,           1,           1,           1,           1,           1,           1,           1,           1,           1,           1,           1,           1,           1,           1,           1,           1,           1,           1,           1,           1,\n",
              "                  1,           1,           1,           1,           1,           1,           1,           1,           1,           1,           1,           1,           1,           1,           1,           1,           1,           1,           1,           1,           1,           1,           1,\n",
              "                  1,           1,           1,           1,           1,           1,           1,           1,           1,           1,           1,           1,           1,           1,           1,           1,           1,           1,           1,           1,           1,           1,           1,\n",
              "                  1,           1,           1,           1,           1,           1,           1,           1,           1,           1,           1,           1,           1,           1,           1,           1,           1,           1,           1,           1,           1,           1,           1,\n",
              "                  1,           1,           1,           1,           1,           1,           1,           1,           1,           1,           1,           1,           1,           1,           1,           1,           1,           1,           1,           1,           1,           1,           1,\n",
              "                  1,           1,           1,           1,           1,           1,           1,           1,           1,           1,           1,           1,           1,           1,           1,           1,           1,           1,           1,           1,           1,           1,           1,\n",
              "                  1,           1,           1,           1,           1,           1,           1,           1,           1,           1,           1,           1,           1,           1,           1,           1,           1,           1,           1,           1,           1,           1,           1,\n",
              "                  1,           1,           1,           1,           1,           1,           1,           1,           1,           1,           1]]), 'Confidence', 'Precision'], [array([          0,    0.001001,    0.002002,    0.003003,    0.004004,    0.005005,    0.006006,    0.007007,    0.008008,    0.009009,     0.01001,    0.011011,    0.012012,    0.013013,    0.014014,    0.015015,    0.016016,    0.017017,    0.018018,    0.019019,     0.02002,    0.021021,    0.022022,    0.023023,\n",
              "          0.024024,    0.025025,    0.026026,    0.027027,    0.028028,    0.029029,     0.03003,    0.031031,    0.032032,    0.033033,    0.034034,    0.035035,    0.036036,    0.037037,    0.038038,    0.039039,     0.04004,    0.041041,    0.042042,    0.043043,    0.044044,    0.045045,    0.046046,    0.047047,\n",
              "          0.048048,    0.049049,     0.05005,    0.051051,    0.052052,    0.053053,    0.054054,    0.055055,    0.056056,    0.057057,    0.058058,    0.059059,     0.06006,    0.061061,    0.062062,    0.063063,    0.064064,    0.065065,    0.066066,    0.067067,    0.068068,    0.069069,     0.07007,    0.071071,\n",
              "          0.072072,    0.073073,    0.074074,    0.075075,    0.076076,    0.077077,    0.078078,    0.079079,     0.08008,    0.081081,    0.082082,    0.083083,    0.084084,    0.085085,    0.086086,    0.087087,    0.088088,    0.089089,     0.09009,    0.091091,    0.092092,    0.093093,    0.094094,    0.095095,\n",
              "          0.096096,    0.097097,    0.098098,    0.099099,      0.1001,      0.1011,      0.1021,      0.1031,      0.1041,     0.10511,     0.10611,     0.10711,     0.10811,     0.10911,     0.11011,     0.11111,     0.11211,     0.11311,     0.11411,     0.11512,     0.11612,     0.11712,     0.11812,     0.11912,\n",
              "           0.12012,     0.12112,     0.12212,     0.12312,     0.12412,     0.12513,     0.12613,     0.12713,     0.12813,     0.12913,     0.13013,     0.13113,     0.13213,     0.13313,     0.13413,     0.13514,     0.13614,     0.13714,     0.13814,     0.13914,     0.14014,     0.14114,     0.14214,     0.14314,\n",
              "           0.14414,     0.14515,     0.14615,     0.14715,     0.14815,     0.14915,     0.15015,     0.15115,     0.15215,     0.15315,     0.15415,     0.15516,     0.15616,     0.15716,     0.15816,     0.15916,     0.16016,     0.16116,     0.16216,     0.16316,     0.16416,     0.16517,     0.16617,     0.16717,\n",
              "           0.16817,     0.16917,     0.17017,     0.17117,     0.17217,     0.17317,     0.17417,     0.17518,     0.17618,     0.17718,     0.17818,     0.17918,     0.18018,     0.18118,     0.18218,     0.18318,     0.18418,     0.18519,     0.18619,     0.18719,     0.18819,     0.18919,     0.19019,     0.19119,\n",
              "           0.19219,     0.19319,     0.19419,      0.1952,      0.1962,      0.1972,      0.1982,      0.1992,      0.2002,      0.2012,      0.2022,      0.2032,      0.2042,     0.20521,     0.20621,     0.20721,     0.20821,     0.20921,     0.21021,     0.21121,     0.21221,     0.21321,     0.21421,     0.21522,\n",
              "           0.21622,     0.21722,     0.21822,     0.21922,     0.22022,     0.22122,     0.22222,     0.22322,     0.22422,     0.22523,     0.22623,     0.22723,     0.22823,     0.22923,     0.23023,     0.23123,     0.23223,     0.23323,     0.23423,     0.23524,     0.23624,     0.23724,     0.23824,     0.23924,\n",
              "           0.24024,     0.24124,     0.24224,     0.24324,     0.24424,     0.24525,     0.24625,     0.24725,     0.24825,     0.24925,     0.25025,     0.25125,     0.25225,     0.25325,     0.25425,     0.25526,     0.25626,     0.25726,     0.25826,     0.25926,     0.26026,     0.26126,     0.26226,     0.26326,\n",
              "           0.26426,     0.26527,     0.26627,     0.26727,     0.26827,     0.26927,     0.27027,     0.27127,     0.27227,     0.27327,     0.27427,     0.27528,     0.27628,     0.27728,     0.27828,     0.27928,     0.28028,     0.28128,     0.28228,     0.28328,     0.28428,     0.28529,     0.28629,     0.28729,\n",
              "           0.28829,     0.28929,     0.29029,     0.29129,     0.29229,     0.29329,     0.29429,      0.2953,      0.2963,      0.2973,      0.2983,      0.2993,      0.3003,      0.3013,      0.3023,      0.3033,      0.3043,     0.30531,     0.30631,     0.30731,     0.30831,     0.30931,     0.31031,     0.31131,\n",
              "           0.31231,     0.31331,     0.31431,     0.31532,     0.31632,     0.31732,     0.31832,     0.31932,     0.32032,     0.32132,     0.32232,     0.32332,     0.32432,     0.32533,     0.32633,     0.32733,     0.32833,     0.32933,     0.33033,     0.33133,     0.33233,     0.33333,     0.33433,     0.33534,\n",
              "           0.33634,     0.33734,     0.33834,     0.33934,     0.34034,     0.34134,     0.34234,     0.34334,     0.34434,     0.34535,     0.34635,     0.34735,     0.34835,     0.34935,     0.35035,     0.35135,     0.35235,     0.35335,     0.35435,     0.35536,     0.35636,     0.35736,     0.35836,     0.35936,\n",
              "           0.36036,     0.36136,     0.36236,     0.36336,     0.36436,     0.36537,     0.36637,     0.36737,     0.36837,     0.36937,     0.37037,     0.37137,     0.37237,     0.37337,     0.37437,     0.37538,     0.37638,     0.37738,     0.37838,     0.37938,     0.38038,     0.38138,     0.38238,     0.38338,\n",
              "           0.38438,     0.38539,     0.38639,     0.38739,     0.38839,     0.38939,     0.39039,     0.39139,     0.39239,     0.39339,     0.39439,      0.3954,      0.3964,      0.3974,      0.3984,      0.3994,      0.4004,      0.4014,      0.4024,      0.4034,      0.4044,     0.40541,     0.40641,     0.40741,\n",
              "           0.40841,     0.40941,     0.41041,     0.41141,     0.41241,     0.41341,     0.41441,     0.41542,     0.41642,     0.41742,     0.41842,     0.41942,     0.42042,     0.42142,     0.42242,     0.42342,     0.42442,     0.42543,     0.42643,     0.42743,     0.42843,     0.42943,     0.43043,     0.43143,\n",
              "           0.43243,     0.43343,     0.43443,     0.43544,     0.43644,     0.43744,     0.43844,     0.43944,     0.44044,     0.44144,     0.44244,     0.44344,     0.44444,     0.44545,     0.44645,     0.44745,     0.44845,     0.44945,     0.45045,     0.45145,     0.45245,     0.45345,     0.45445,     0.45546,\n",
              "           0.45646,     0.45746,     0.45846,     0.45946,     0.46046,     0.46146,     0.46246,     0.46346,     0.46446,     0.46547,     0.46647,     0.46747,     0.46847,     0.46947,     0.47047,     0.47147,     0.47247,     0.47347,     0.47447,     0.47548,     0.47648,     0.47748,     0.47848,     0.47948,\n",
              "           0.48048,     0.48148,     0.48248,     0.48348,     0.48448,     0.48549,     0.48649,     0.48749,     0.48849,     0.48949,     0.49049,     0.49149,     0.49249,     0.49349,     0.49449,      0.4955,      0.4965,      0.4975,      0.4985,      0.4995,      0.5005,      0.5015,      0.5025,      0.5035,\n",
              "            0.5045,     0.50551,     0.50651,     0.50751,     0.50851,     0.50951,     0.51051,     0.51151,     0.51251,     0.51351,     0.51451,     0.51552,     0.51652,     0.51752,     0.51852,     0.51952,     0.52052,     0.52152,     0.52252,     0.52352,     0.52452,     0.52553,     0.52653,     0.52753,\n",
              "           0.52853,     0.52953,     0.53053,     0.53153,     0.53253,     0.53353,     0.53453,     0.53554,     0.53654,     0.53754,     0.53854,     0.53954,     0.54054,     0.54154,     0.54254,     0.54354,     0.54454,     0.54555,     0.54655,     0.54755,     0.54855,     0.54955,     0.55055,     0.55155,\n",
              "           0.55255,     0.55355,     0.55455,     0.55556,     0.55656,     0.55756,     0.55856,     0.55956,     0.56056,     0.56156,     0.56256,     0.56356,     0.56456,     0.56557,     0.56657,     0.56757,     0.56857,     0.56957,     0.57057,     0.57157,     0.57257,     0.57357,     0.57457,     0.57558,\n",
              "           0.57658,     0.57758,     0.57858,     0.57958,     0.58058,     0.58158,     0.58258,     0.58358,     0.58458,     0.58559,     0.58659,     0.58759,     0.58859,     0.58959,     0.59059,     0.59159,     0.59259,     0.59359,     0.59459,      0.5956,      0.5966,      0.5976,      0.5986,      0.5996,\n",
              "            0.6006,      0.6016,      0.6026,      0.6036,      0.6046,     0.60561,     0.60661,     0.60761,     0.60861,     0.60961,     0.61061,     0.61161,     0.61261,     0.61361,     0.61461,     0.61562,     0.61662,     0.61762,     0.61862,     0.61962,     0.62062,     0.62162,     0.62262,     0.62362,\n",
              "           0.62462,     0.62563,     0.62663,     0.62763,     0.62863,     0.62963,     0.63063,     0.63163,     0.63263,     0.63363,     0.63463,     0.63564,     0.63664,     0.63764,     0.63864,     0.63964,     0.64064,     0.64164,     0.64264,     0.64364,     0.64464,     0.64565,     0.64665,     0.64765,\n",
              "           0.64865,     0.64965,     0.65065,     0.65165,     0.65265,     0.65365,     0.65465,     0.65566,     0.65666,     0.65766,     0.65866,     0.65966,     0.66066,     0.66166,     0.66266,     0.66366,     0.66466,     0.66567,     0.66667,     0.66767,     0.66867,     0.66967,     0.67067,     0.67167,\n",
              "           0.67267,     0.67367,     0.67467,     0.67568,     0.67668,     0.67768,     0.67868,     0.67968,     0.68068,     0.68168,     0.68268,     0.68368,     0.68468,     0.68569,     0.68669,     0.68769,     0.68869,     0.68969,     0.69069,     0.69169,     0.69269,     0.69369,     0.69469,      0.6957,\n",
              "            0.6967,      0.6977,      0.6987,      0.6997,      0.7007,      0.7017,      0.7027,      0.7037,      0.7047,     0.70571,     0.70671,     0.70771,     0.70871,     0.70971,     0.71071,     0.71171,     0.71271,     0.71371,     0.71471,     0.71572,     0.71672,     0.71772,     0.71872,     0.71972,\n",
              "           0.72072,     0.72172,     0.72272,     0.72372,     0.72472,     0.72573,     0.72673,     0.72773,     0.72873,     0.72973,     0.73073,     0.73173,     0.73273,     0.73373,     0.73473,     0.73574,     0.73674,     0.73774,     0.73874,     0.73974,     0.74074,     0.74174,     0.74274,     0.74374,\n",
              "           0.74474,     0.74575,     0.74675,     0.74775,     0.74875,     0.74975,     0.75075,     0.75175,     0.75275,     0.75375,     0.75475,     0.75576,     0.75676,     0.75776,     0.75876,     0.75976,     0.76076,     0.76176,     0.76276,     0.76376,     0.76476,     0.76577,     0.76677,     0.76777,\n",
              "           0.76877,     0.76977,     0.77077,     0.77177,     0.77277,     0.77377,     0.77477,     0.77578,     0.77678,     0.77778,     0.77878,     0.77978,     0.78078,     0.78178,     0.78278,     0.78378,     0.78478,     0.78579,     0.78679,     0.78779,     0.78879,     0.78979,     0.79079,     0.79179,\n",
              "           0.79279,     0.79379,     0.79479,      0.7958,      0.7968,      0.7978,      0.7988,      0.7998,      0.8008,      0.8018,      0.8028,      0.8038,      0.8048,     0.80581,     0.80681,     0.80781,     0.80881,     0.80981,     0.81081,     0.81181,     0.81281,     0.81381,     0.81481,     0.81582,\n",
              "           0.81682,     0.81782,     0.81882,     0.81982,     0.82082,     0.82182,     0.82282,     0.82382,     0.82482,     0.82583,     0.82683,     0.82783,     0.82883,     0.82983,     0.83083,     0.83183,     0.83283,     0.83383,     0.83483,     0.83584,     0.83684,     0.83784,     0.83884,     0.83984,\n",
              "           0.84084,     0.84184,     0.84284,     0.84384,     0.84484,     0.84585,     0.84685,     0.84785,     0.84885,     0.84985,     0.85085,     0.85185,     0.85285,     0.85385,     0.85485,     0.85586,     0.85686,     0.85786,     0.85886,     0.85986,     0.86086,     0.86186,     0.86286,     0.86386,\n",
              "           0.86486,     0.86587,     0.86687,     0.86787,     0.86887,     0.86987,     0.87087,     0.87187,     0.87287,     0.87387,     0.87487,     0.87588,     0.87688,     0.87788,     0.87888,     0.87988,     0.88088,     0.88188,     0.88288,     0.88388,     0.88488,     0.88589,     0.88689,     0.88789,\n",
              "           0.88889,     0.88989,     0.89089,     0.89189,     0.89289,     0.89389,     0.89489,      0.8959,      0.8969,      0.8979,      0.8989,      0.8999,      0.9009,      0.9019,      0.9029,      0.9039,      0.9049,     0.90591,     0.90691,     0.90791,     0.90891,     0.90991,     0.91091,     0.91191,\n",
              "           0.91291,     0.91391,     0.91491,     0.91592,     0.91692,     0.91792,     0.91892,     0.91992,     0.92092,     0.92192,     0.92292,     0.92392,     0.92492,     0.92593,     0.92693,     0.92793,     0.92893,     0.92993,     0.93093,     0.93193,     0.93293,     0.93393,     0.93493,     0.93594,\n",
              "           0.93694,     0.93794,     0.93894,     0.93994,     0.94094,     0.94194,     0.94294,     0.94394,     0.94494,     0.94595,     0.94695,     0.94795,     0.94895,     0.94995,     0.95095,     0.95195,     0.95295,     0.95395,     0.95495,     0.95596,     0.95696,     0.95796,     0.95896,     0.95996,\n",
              "           0.96096,     0.96196,     0.96296,     0.96396,     0.96496,     0.96597,     0.96697,     0.96797,     0.96897,     0.96997,     0.97097,     0.97197,     0.97297,     0.97397,     0.97497,     0.97598,     0.97698,     0.97798,     0.97898,     0.97998,     0.98098,     0.98198,     0.98298,     0.98398,\n",
              "           0.98498,     0.98599,     0.98699,     0.98799,     0.98899,     0.98999,     0.99099,     0.99199,     0.99299,     0.99399,     0.99499,       0.996,       0.997,       0.998,       0.999,           1]), array([[    0.97317,     0.97317,     0.96829,     0.96098,      0.9561,     0.95122,     0.95122,     0.95122,     0.94634,     0.94634,      0.9439,      0.9439,      0.9439,     0.94146,     0.94146,     0.93902,     0.93902,     0.93902,     0.93902,     0.93902,     0.93902,     0.93902,     0.93902,\n",
              "            0.93902,     0.93659,     0.93659,     0.93659,     0.93659,     0.93415,     0.93415,     0.93415,     0.93415,     0.93415,     0.93415,     0.93415,     0.93415,     0.93415,     0.93415,     0.93415,     0.93415,     0.93415,     0.93171,     0.93171,     0.93171,     0.92927,     0.92927,\n",
              "            0.92927,     0.92927,     0.92683,     0.92683,     0.92683,     0.92683,     0.92683,     0.92439,     0.92195,     0.92195,     0.92195,     0.92195,     0.92195,     0.92195,     0.92195,     0.92195,     0.91951,     0.91951,     0.91951,     0.91951,     0.91707,     0.91707,     0.91707,\n",
              "            0.91707,     0.91707,     0.91707,     0.91707,     0.91463,     0.91463,     0.91463,      0.9122,      0.9122,      0.9122,      0.9122,     0.90976,     0.90976,     0.90976,     0.90976,     0.90976,     0.90976,     0.90732,     0.90732,     0.90488,     0.90244,     0.90244,     0.90244,\n",
              "            0.90244,         0.9,         0.9,         0.9,         0.9,         0.9,     0.89756,     0.89756,     0.89756,     0.89756,     0.89756,     0.89756,     0.89522,     0.89512,     0.89512,     0.89512,     0.89512,     0.89512,     0.89512,     0.89512,     0.89512,     0.89512,     0.89512,\n",
              "            0.89512,     0.89512,     0.89512,     0.89512,     0.89268,     0.89268,     0.89268,     0.89268,     0.89268,     0.89071,     0.89024,     0.89024,     0.89024,     0.89024,     0.89024,     0.89024,     0.88804,      0.8878,      0.8878,      0.8878,      0.8878,     0.88537,     0.88537,\n",
              "            0.88537,     0.88537,     0.88341,     0.88293,     0.88293,     0.88293,     0.88293,     0.88293,     0.88293,     0.88293,     0.88293,     0.88293,     0.88293,     0.88293,     0.88293,     0.88293,     0.88293,     0.88049,     0.87805,     0.87805,     0.87805,     0.87805,     0.87805,\n",
              "            0.87805,     0.87805,     0.87755,     0.87561,     0.87561,     0.87561,     0.87561,     0.87561,     0.87561,     0.87317,     0.87317,     0.87317,      0.8719,     0.87073,      0.8691,     0.86341,     0.86341,     0.86341,     0.86098,     0.86098,     0.86098,     0.86098,     0.86098,\n",
              "            0.85854,     0.85854,     0.85854,     0.85854,     0.85854,     0.85854,      0.8561,      0.8561,      0.8561,      0.8561,      0.8561,      0.8561,      0.8561,     0.85596,     0.85366,     0.85366,     0.85366,     0.85366,     0.85366,     0.85366,     0.85366,     0.85366,     0.85153,\n",
              "            0.85122,     0.85122,     0.85122,     0.85122,     0.85122,     0.85122,     0.85122,     0.85122,     0.85122,     0.85122,     0.85122,     0.85122,     0.85122,     0.85122,     0.85122,     0.85051,     0.84878,     0.84878,     0.84878,     0.84827,     0.84634,     0.84634,     0.84634,\n",
              "            0.84634,     0.84634,     0.84634,     0.84567,      0.8439,      0.8439,      0.8439,      0.8439,      0.8439,      0.8439,      0.8439,      0.8439,      0.8439,      0.8439,      0.8439,      0.8439,      0.8439,     0.84169,     0.84146,     0.84055,     0.83902,     0.83902,     0.83902,\n",
              "            0.83902,     0.83902,       0.838,     0.83659,     0.83659,     0.83185,     0.82927,     0.82927,     0.82927,     0.82927,     0.82887,     0.82584,     0.82439,     0.82439,     0.82439,     0.82439,     0.82439,     0.82439,     0.82439,     0.82439,     0.82439,     0.82439,     0.82396,\n",
              "            0.81951,     0.81951,     0.81951,     0.81913,     0.81747,     0.81463,     0.81463,      0.8122,      0.8122,      0.8122,      0.8122,      0.8122,      0.8122,     0.81117,     0.80976,     0.80976,     0.80976,     0.80616,     0.80488,     0.80488,     0.80488,     0.80488,     0.80488,\n",
              "            0.80488,     0.80488,     0.80481,     0.80281,     0.80244,     0.80244,     0.80244,     0.80244,     0.80244,         0.8,         0.8,         0.8,         0.8,         0.8,         0.8,         0.8,         0.8,     0.79756,     0.79756,     0.79756,     0.79756,     0.79756,     0.79756,\n",
              "            0.79756,     0.79756,     0.79756,     0.79756,     0.79756,     0.79756,     0.79756,     0.79756,     0.79266,     0.78886,      0.7878,      0.7878,      0.7878,      0.7878,      0.7878,     0.78537,     0.78537,     0.78537,     0.78537,     0.78293,     0.78293,     0.78293,     0.78293,\n",
              "            0.78293,     0.78293,     0.78293,     0.78049,     0.78049,     0.78049,     0.78049,     0.77805,     0.77805,     0.77805,     0.77561,     0.77073,     0.77073,     0.77073,     0.76986,     0.76895,     0.76829,     0.76754,     0.76585,     0.76585,     0.76585,     0.76585,     0.76515,\n",
              "            0.76348,     0.76341,     0.76341,     0.76341,     0.76341,     0.76341,     0.76341,     0.76341,     0.76341,     0.76341,     0.76341,     0.76341,     0.75851,     0.75366,     0.75234,     0.75122,     0.75122,     0.75122,     0.75122,     0.75122,     0.75122,     0.75122,     0.75122,\n",
              "            0.75122,     0.75122,     0.75122,     0.75122,     0.75122,     0.75122,     0.75069,     0.74944,     0.74878,     0.74878,     0.74878,     0.74878,     0.74878,     0.74878,     0.74878,     0.74878,     0.74833,     0.74609,     0.74484,      0.7439,      0.7439,      0.7439,      0.7439,\n",
              "             0.7439,      0.7439,      0.7439,      0.7439,      0.7439,      0.7439,     0.74205,     0.74146,     0.74146,     0.74146,     0.74146,     0.74146,     0.74146,     0.74101,     0.73851,     0.73659,     0.73659,     0.73659,     0.73415,     0.73415,     0.73415,     0.73289,     0.73171,\n",
              "            0.73171,     0.73171,     0.73081,     0.72956,     0.72927,     0.72584,     0.72459,     0.72229,     0.71951,      0.7184,     0.71715,     0.71473,      0.7122,     0.70976,     0.70976,     0.70961,     0.70488,     0.70452,     0.70244,     0.70144,     0.69894,     0.69737,     0.69696,\n",
              "            0.69654,     0.69612,     0.69571,     0.69529,     0.69512,     0.69512,     0.69512,     0.69512,     0.69339,     0.69178,     0.69053,     0.68832,     0.68582,     0.68469,     0.68385,     0.68302,     0.68049,     0.68049,     0.68049,     0.68049,     0.68049,     0.67796,     0.67561,\n",
              "            0.67561,     0.67561,     0.67561,     0.67561,     0.67561,     0.67535,      0.6741,     0.67285,      0.6716,     0.66829,     0.66829,     0.66829,     0.66829,     0.66485,     0.66341,     0.66285,      0.6616,     0.65729,      0.6561,      0.6561,     0.65366,     0.65366,     0.65366,\n",
              "            0.65366,     0.65366,     0.65192,     0.64942,     0.64878,     0.64686,     0.64535,      0.6441,     0.63936,     0.63902,     0.63659,     0.63186,     0.62448,     0.61951,     0.61706,     0.61581,     0.61463,     0.61463,      0.6122,      0.6122,       0.612,     0.61075,     0.60924,\n",
              "            0.60732,     0.60424,     0.59977,     0.59893,      0.5981,     0.59738,     0.59688,     0.59638,     0.59588,     0.59538,     0.59393,     0.58899,     0.58649,     0.58468,     0.58343,     0.58143,     0.58049,     0.58049,     0.58049,     0.58049,     0.58049,     0.57805,     0.57805,\n",
              "            0.57805,     0.57805,     0.57735,     0.57651,     0.57568,     0.57225,     0.57125,     0.56954,     0.56704,      0.5652,     0.56395,     0.56198,     0.55948,     0.55698,     0.55204,     0.55066,     0.54983,     0.54899,     0.54692,     0.54538,     0.54413,     0.54186,     0.53936,\n",
              "            0.53794,     0.53669,     0.53338,     0.53255,     0.53172,     0.52435,     0.52176,     0.51814,     0.51635,      0.5151,     0.51307,     0.50813,      0.5032,      0.5007,      0.4982,      0.4957,      0.4932,      0.4878,     0.48088,     0.47838,     0.47588,     0.46972,     0.46532,\n",
              "            0.46407,     0.46222,     0.45728,     0.45478,     0.45228,     0.44978,     0.44728,     0.44556,     0.44431,     0.42637,     0.42413,     0.42288,     0.41887,     0.41393,     0.40899,      0.4069,     0.40565,     0.40393,     0.40176,      0.4001,     0.39765,     0.39515,     0.39267,\n",
              "            0.39184,       0.391,     0.39016,     0.38916,     0.38816,     0.38293,     0.38124,     0.37874,     0.37715,      0.3759,     0.37368,     0.37184,      0.3699,      0.3674,      0.3649,     0.36274,     0.36107,     0.35374,      0.3488,      0.3463,     0.34136,     0.33886,     0.33644,\n",
              "            0.33477,     0.33014,     0.32277,     0.31783,     0.31657,     0.31586,     0.31515,     0.31392,     0.31142,     0.30321,     0.29789,     0.29051,     0.28557,     0.28307,      0.2726,     0.27135,      0.2701,     0.26885,     0.26737,     0.26574,     0.26449,     0.26341,     0.26016,\n",
              "            0.25685,     0.25522,     0.25397,       0.251,     0.25017,     0.24934,     0.24467,     0.24146,     0.24084,     0.24013,     0.23941,     0.23415,     0.23415,      0.2341,     0.23166,     0.23041,     0.22638,     0.21876,     0.21751,     0.21599,     0.21463,     0.21463,     0.21463,\n",
              "            0.21276,     0.21026,     0.20776,     0.20446,     0.20321,     0.20052,       0.194,     0.19275,     0.18992,      0.1892,     0.18849,     0.18532,     0.18432,     0.18332,     0.18192,     0.18014,     0.17793,     0.17722,      0.1765,     0.17579,     0.17499,     0.17415,     0.17332,\n",
              "            0.16991,     0.16891,     0.16733,     0.16585,     0.16585,     0.16349,     0.16049,     0.15949,     0.15854,     0.15848,     0.15765,     0.15681,     0.15586,      0.1542,     0.15298,     0.15198,     0.14619,     0.14557,     0.14494,     0.14432,     0.14223,     0.14062,     0.13962,\n",
              "             0.1388,     0.13824,     0.13769,     0.13713,     0.13413,     0.13342,      0.1327,     0.13199,     0.12826,      0.1266,     0.12493,     0.12354,     0.12229,     0.11921,     0.11879,     0.11838,     0.11796,     0.11754,     0.11713,     0.11489,     0.11239,     0.11127,     0.11027,\n",
              "            0.10961,     0.10929,     0.10898,     0.10867,     0.10836,     0.10804,     0.10773,     0.10742,     0.10689,     0.10627,     0.10564,     0.10502,     0.10445,     0.10389,     0.10334,     0.10278,      0.1018,     0.10013,    0.097696,    0.096773,    0.095939,     0.09509,    0.093424,\n",
              "           0.091294,     0.08976,    0.088927,    0.088094,    0.087478,    0.086978,    0.086478,    0.085978,    0.085478,    0.085013,    0.084559,    0.084104,     0.08365,    0.083195,    0.082517,    0.081517,    0.080517,     0.07887,    0.077686,    0.076972,    0.076258,    0.075455,    0.073788,\n",
              "           0.073083,    0.072944,    0.072806,    0.072667,    0.072528,    0.072389,     0.07225,    0.072111,    0.071972,    0.071833,    0.071694,    0.071555,    0.071417,    0.071278,    0.071139,       0.071,    0.070861,     0.07071,    0.070398,    0.070085,    0.069773,     0.06946,    0.069148,\n",
              "           0.068835,    0.068523,    0.068219,    0.067942,    0.067664,    0.067386,    0.067108,     0.06683,    0.066553,    0.066275,    0.065997,    0.063173,    0.062673,    0.062173,    0.061673,    0.061173,    0.060673,    0.060173,    0.059673,    0.059173,    0.058673,    0.054884,    0.053438,\n",
              "           0.052605,    0.051771,     0.04953,    0.045436,    0.043419,    0.042169,    0.041152,    0.040438,    0.039724,    0.039021,    0.038835,     0.03865,    0.038465,     0.03828,    0.038095,    0.037909,    0.037724,    0.037539,    0.037354,    0.037169,    0.036983,    0.036798,    0.036613,\n",
              "           0.035522,    0.034272,    0.033504,     0.03279,    0.032075,    0.031101,    0.029851,    0.028824,     0.02799,    0.027157,    0.026627,    0.026294,     0.02596,    0.025627,    0.025294,     0.02496,    0.024627,    0.023665,    0.021794,    0.021294,    0.020794,    0.020294,    0.019794,\n",
              "           0.019314,    0.018859,    0.018405,     0.01795,    0.017496,    0.017059,    0.016859,    0.016659,    0.016459,    0.016259,    0.016059,    0.015859,    0.015659,    0.015459,    0.015259,    0.015059,    0.014859,    0.014659,    0.013758,    0.012758,    0.011467,      0.0098,   0.0091476,\n",
              "          0.0085225,   0.0078975,   0.0073086,   0.0071895,   0.0070705,   0.0069514,   0.0068324,   0.0067133,   0.0065943,   0.0064752,   0.0063562,   0.0062371,   0.0061181,    0.005999,     0.00588,   0.0057609,   0.0056419,   0.0055228,   0.0054038,   0.0052847,   0.0051657,   0.0050466,   0.0049276,\n",
              "          0.0045536,    0.003998,   0.0034425,   0.0028869,           0,           0,           0,           0,           0,           0,           0,           0,           0,           0,           0,           0,           0,           0,           0,           0,           0,           0,           0,\n",
              "                  0,           0,           0,           0,           0,           0,           0,           0,           0,           0,           0,           0,           0,           0,           0,           0,           0,           0,           0,           0,           0,           0,           0,\n",
              "                  0,           0,           0,           0,           0,           0,           0,           0,           0,           0,           0]]), 'Confidence', 'Recall']]\n",
              "fitness: 0.4688109167917839\n",
              "keys: ['metrics/precision(B)', 'metrics/recall(B)', 'metrics/mAP50(B)', 'metrics/mAP50-95(B)']\n",
              "maps: array([    0.43026])\n",
              "names: {0: 'Missile'}\n",
              "plot: True\n",
              "results_dict: {'metrics/precision(B)': 0.8329997241008321, 'metrics/recall(B)': 0.7317073170731707, 'metrics/mAP50(B)': 0.8158137012891283, 'metrics/mAP50-95(B)': 0.43025505184763446, 'fitness': 0.4688109167917839}\n",
              "save_dir: PosixPath('runs/detect/train')\n",
              "speed: {'preprocess': 0.4383779892315694, 'inference': 10.24102543386652, 'loss': 0.0006826382118249949, 'postprocess': 3.902965725827295}\n",
              "task: 'detect'"
            ]
          },
          "metadata": {},
          "execution_count": 6
        }
      ]
    }
  ]
}